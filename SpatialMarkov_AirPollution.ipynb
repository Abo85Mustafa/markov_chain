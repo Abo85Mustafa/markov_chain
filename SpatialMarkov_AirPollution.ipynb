{
  "nbformat": 4,
  "nbformat_minor": 0,
  "metadata": {
    "colab": {
      "name": "SpatialMarkov_AirPollution.ipynb",
      "provenance": [],
      "include_colab_link": true
    },
    "kernelspec": {
      "display_name": "Python 3",
      "language": "python",
      "name": "python3"
    }
  },
  "cells": [
    {
      "cell_type": "markdown",
      "metadata": {
        "id": "view-in-github",
        "colab_type": "text"
      },
      "source": [
        "<a href=\"https://colab.research.google.com/github/Abo85Mustafa/markov_chain/blob/master/SpatialMarkov_AirPollution.ipynb\" target=\"_parent\"><img src=\"https://colab.research.google.com/assets/colab-badge.svg\" alt=\"Open In Colab\"/></a>"
      ]
    },
    {
      "cell_type": "code",
      "metadata": {
        "id": "XaElB8IJENSb",
        "colab_type": "code",
        "colab": {
          "base_uri": "https://localhost:8080/",
          "height": 35
        },
        "outputId": "a5b3a675-cbc7-4a16-89c3-2b01f8c65f24"
      },
      "source": [
        "#giddy.markov.Spatial_Markov\n",
        "#https://pysal.readthedocs.io/en/dev/users/tutorials/dynamics.html#spatial-dynamics\n",
        "#https://giddy.readthedocs.io/en/latest/generated/giddy.markov.Spatial_Markov.html\n",
        "#pip install pysal\n",
        "!pip install -U setuptools\n",
        "#!pip install -U pysal"
      ],
      "execution_count": null,
      "outputs": [
        {
          "output_type": "stream",
          "text": [
            "Requirement already up-to-date: setuptools in /usr/local/lib/python3.6/dist-packages (47.1.1)\n"
          ],
          "name": "stdout"
        }
      ]
    },
    {
      "cell_type": "code",
      "metadata": {
        "id": "5qni9pM7RgLJ",
        "colab_type": "code",
        "colab": {}
      },
      "source": [
        "pip install -U pysal"
      ],
      "execution_count": null,
      "outputs": []
    },
    {
      "cell_type": "code",
      "metadata": {
        "id": "jEMaHVLERyWz",
        "colab_type": "code",
        "colab": {
          "base_uri": "https://localhost:8080/",
          "height": 35
        },
        "outputId": "0f63010e-a88f-4bfc-a2a7-ad3e52cc2b9c"
      },
      "source": [
        "env LDFLAGS=\"-I/usr/local/opt/openssl/include -L/usr/local/opt/openssl/lib\" pip install psycopg2"
      ],
      "execution_count": null,
      "outputs": [
        {
          "output_type": "stream",
          "text": [
            "env: LDFLAGS=\"-I/usr/local/opt/openssl/include -L/usr/local/opt/openssl/lib\" pip install psycopg2\n"
          ],
          "name": "stdout"
        }
      ]
    },
    {
      "cell_type": "code",
      "metadata": {
        "id": "Xq9aoLyNPJuL",
        "colab_type": "code",
        "colab": {}
      },
      "source": [
        "#Installing PySAL via Conda\n",
        "#conda install --channel conda-forge pysal\n",
        "collab install --channel collab-forge pysal\n"
      ],
      "execution_count": null,
      "outputs": []
    },
    {
      "cell_type": "code",
      "metadata": {
        "id": "xXMJO-rKEThx",
        "colab_type": "code",
        "colab": {
          "base_uri": "https://localhost:8080/",
          "height": 870
        },
        "outputId": "c462354a-0fbd-4545-c77c-d560a6e7a8af"
      },
      "source": [
        "pip install giddy\n"
      ],
      "execution_count": null,
      "outputs": [
        {
          "output_type": "stream",
          "text": [
            "Collecting giddy\n",
            "  Using cached https://files.pythonhosted.org/packages/5c/71/f7fc2b41e36b2a06bac30937435d2dedd125f74f3157213ec121ff52d961/giddy-2.3.3-py3-none-any.whl\n",
            "Collecting esda>=2.1.1\n",
            "  Using cached https://files.pythonhosted.org/packages/16/f1/c2190bc3a7ef9c83ce0b060b927763352bfc0a55ccea8bb5fcd8975de347/esda-2.2.1.tar.gz\n",
            "Requirement already satisfied: scipy>=1.3.0 in /usr/local/lib/python3.6/dist-packages (from giddy) (1.4.1)\n",
            "Collecting libpysal>=4.0.1\n",
            "  Using cached https://files.pythonhosted.org/packages/6f/00/bf40b380e9064222868c93ed51d81dd14b1266b16dd5a54e53aaed12caf2/libpysal-4.2.2.tar.gz\n",
            "Collecting quantecon>=0.4.7\n",
            "  Using cached https://files.pythonhosted.org/packages/72/15/7649ba1f5ad5adc78efbda71d5f1dd15f0edf4a0dead41ba048b7d7e5335/quantecon-0.4.7-py3-none-any.whl\n",
            "Collecting mapclassify>=2.1.1\n",
            "  Using cached https://files.pythonhosted.org/packages/91/b5/6b54f40901d89f2ce30cf2d8110dd57658db3e95db79baba6706d7588691/mapclassify-2.2.0.tar.gz\n",
            "Requirement already satisfied: pandas in /usr/local/lib/python3.6/dist-packages (from esda>=2.1.1->giddy) (1.0.4)\n",
            "Requirement already satisfied: scikit-learn in /usr/local/lib/python3.6/dist-packages (from esda>=2.1.1->giddy) (0.22.2.post1)\n",
            "Requirement already satisfied: numpy>=1.13.3 in /usr/local/lib/python3.6/dist-packages (from scipy>=1.3.0->giddy) (1.18.5)\n",
            "Requirement already satisfied: bs4 in /usr/local/lib/python3.6/dist-packages (from libpysal>=4.0.1->giddy) (0.0.1)\n",
            "Requirement already satisfied: requests in /usr/local/lib/python3.6/dist-packages (from libpysal>=4.0.1->giddy) (2.23.0)\n",
            "Requirement already satisfied: jinja2 in /usr/local/lib/python3.6/dist-packages (from libpysal>=4.0.1->giddy) (2.11.2)\n",
            "Requirement already satisfied: sympy in /usr/local/lib/python3.6/dist-packages (from quantecon>=0.4.7->giddy) (1.1.1)\n",
            "Requirement already satisfied: numba>=0.38 in /usr/local/lib/python3.6/dist-packages (from quantecon>=0.4.7->giddy) (0.48.0)\n",
            "Collecting deprecated\n",
            "  Downloading https://files.pythonhosted.org/packages/76/a1/05d7f62f956d77b23a640efc650f80ce24483aa2f85a09c03fb64f49e879/Deprecated-1.2.10-py2.py3-none-any.whl\n",
            "Requirement already satisfied: pytz>=2017.2 in /usr/local/lib/python3.6/dist-packages (from pandas->esda>=2.1.1->giddy) (2018.9)\n",
            "Requirement already satisfied: python-dateutil>=2.6.1 in /usr/local/lib/python3.6/dist-packages (from pandas->esda>=2.1.1->giddy) (2.8.1)\n",
            "Requirement already satisfied: joblib>=0.11 in /usr/local/lib/python3.6/dist-packages (from scikit-learn->esda>=2.1.1->giddy) (0.15.1)\n",
            "Requirement already satisfied: beautifulsoup4 in /usr/local/lib/python3.6/dist-packages (from bs4->libpysal>=4.0.1->giddy) (4.6.3)\n",
            "Requirement already satisfied: chardet<4,>=3.0.2 in /usr/local/lib/python3.6/dist-packages (from requests->libpysal>=4.0.1->giddy) (3.0.4)\n",
            "Requirement already satisfied: urllib3!=1.25.0,!=1.25.1,<1.26,>=1.21.1 in /usr/local/lib/python3.6/dist-packages (from requests->libpysal>=4.0.1->giddy) (1.24.3)\n",
            "Requirement already satisfied: idna<3,>=2.5 in /usr/local/lib/python3.6/dist-packages (from requests->libpysal>=4.0.1->giddy) (2.9)\n",
            "Requirement already satisfied: certifi>=2017.4.17 in /usr/local/lib/python3.6/dist-packages (from requests->libpysal>=4.0.1->giddy) (2020.4.5.1)\n",
            "Requirement already satisfied: MarkupSafe>=0.23 in /usr/local/lib/python3.6/dist-packages (from jinja2->libpysal>=4.0.1->giddy) (1.1.1)\n",
            "Requirement already satisfied: mpmath>=0.19 in /usr/local/lib/python3.6/dist-packages (from sympy->quantecon>=0.4.7->giddy) (1.1.0)\n",
            "Requirement already satisfied: llvmlite<0.32.0,>=0.31.0dev0 in /usr/local/lib/python3.6/dist-packages (from numba>=0.38->quantecon>=0.4.7->giddy) (0.31.0)\n",
            "Requirement already satisfied: setuptools in /usr/local/lib/python3.6/dist-packages (from numba>=0.38->quantecon>=0.4.7->giddy) (47.1.1)\n",
            "Requirement already satisfied: wrapt<2,>=1.10 in /usr/local/lib/python3.6/dist-packages (from deprecated->mapclassify>=2.1.1->giddy) (1.12.1)\n",
            "Requirement already satisfied: six>=1.5 in /usr/local/lib/python3.6/dist-packages (from python-dateutil>=2.6.1->pandas->esda>=2.1.1->giddy) (1.12.0)\n",
            "Building wheels for collected packages: esda, libpysal, mapclassify\n",
            "  Building wheel for esda (setup.py) ... \u001b[?25l\u001b[?25hdone\n",
            "  Created wheel for esda: filename=esda-2.2.1-cp36-none-any.whl size=57029 sha256=6f11c293333b82402b81dd63d4dea7f4396e497fc4d3ad88f65f95e5b569edec\n",
            "  Stored in directory: /root/.cache/pip/wheels/12/83/ca/6f2cf40e4cab188802538c063442168a737a2323c7a5a063ec\n",
            "  Building wheel for libpysal (setup.py) ... \u001b[?25l\u001b[?25hdone\n",
            "  Created wheel for libpysal: filename=libpysal-4.2.2-py2.py3-none-any.whl size=2451705 sha256=736b5904cfe4680c00658cf855319c4fc9966db51455efee6924d54b51dcfc51\n",
            "  Stored in directory: /root/.cache/pip/wheels/6b/89/fa/c9b34a3f52a38f185a0bb23c5bfbcb7415ba4bda219aa42e6d\n",
            "  Building wheel for mapclassify (setup.py) ... \u001b[?25l\u001b[?25hdone\n",
            "  Created wheel for mapclassify: filename=mapclassify-2.2.0-cp36-none-any.whl size=47028 sha256=358fbae39ec5df3140cc568f1544a5e9b1c6dc9bfb66770cdbc995dc003d8554\n",
            "  Stored in directory: /root/.cache/pip/wheels/96/0c/c1/b2bce9fc10da2e6c6befc9fe5929adca7c71b7c4abd1fc42f0\n",
            "Successfully built esda libpysal mapclassify\n",
            "Installing collected packages: libpysal, esda, quantecon, deprecated, mapclassify, giddy\n",
            "Successfully installed deprecated-1.2.10 esda-2.2.1 giddy-2.3.3 libpysal-4.2.2 mapclassify-2.2.0 quantecon-0.4.7\n"
          ],
          "name": "stdout"
        }
      ]
    },
    {
      "cell_type": "code",
      "metadata": {
        "id": "B7A0yLO-VCZX",
        "colab_type": "code",
        "colab": {
          "base_uri": "https://localhost:8080/",
          "height": 35
        },
        "outputId": "ec1cf620-67b7-430a-dcaa-1ab94caa6556"
      },
      "source": [
        "!pip install numpy"
      ],
      "execution_count": null,
      "outputs": [
        {
          "output_type": "stream",
          "text": [
            "Requirement already satisfied: numpy in /usr/local/lib/python3.6/dist-packages (1.18.5)\n"
          ],
          "name": "stdout"
        }
      ]
    },
    {
      "cell_type": "code",
      "metadata": {
        "id": "QHdFUSaVU7Py",
        "colab_type": "code",
        "colab": {
          "base_uri": "https://localhost:8080/",
          "height": 35
        },
        "outputId": "065bfa82-fc81-4994-e889-38974445fb97"
      },
      "source": [
        "!pip install --upgrade numpy"
      ],
      "execution_count": null,
      "outputs": [
        {
          "output_type": "stream",
          "text": [
            "Requirement already up-to-date: numpy in /usr/local/lib/python3.6/dist-packages (1.18.5)\n"
          ],
          "name": "stdout"
        }
      ]
    },
    {
      "cell_type": "code",
      "metadata": {
        "id": "8PfUEcWyU7Mh",
        "colab_type": "code",
        "colab": {
          "base_uri": "https://localhost:8080/",
          "height": 106
        },
        "outputId": "0ed8727e-f0c8-4055-cf19-0efc08ab1388"
      },
      "source": [
        "!pip install pandas"
      ],
      "execution_count": null,
      "outputs": [
        {
          "output_type": "stream",
          "text": [
            "Requirement already satisfied: pandas in /usr/local/lib/python3.6/dist-packages (1.0.3)\n",
            "Requirement already satisfied: python-dateutil>=2.6.1 in /usr/local/lib/python3.6/dist-packages (from pandas) (2.8.1)\n",
            "Requirement already satisfied: pytz>=2017.2 in /usr/local/lib/python3.6/dist-packages (from pandas) (2018.9)\n",
            "Requirement already satisfied: numpy>=1.13.3 in /usr/local/lib/python3.6/dist-packages (from pandas) (1.18.4)\n",
            "Requirement already satisfied: six>=1.5 in /usr/local/lib/python3.6/dist-packages (from python-dateutil>=2.6.1->pandas) (1.12.0)\n"
          ],
          "name": "stdout"
        }
      ]
    },
    {
      "cell_type": "code",
      "metadata": {
        "id": "DAgds_rAEWDU",
        "colab_type": "code",
        "colab": {
          "base_uri": "https://localhost:8080/",
          "height": 52
        },
        "outputId": "05469417-914f-47b9-f2d6-e22a2351bb78"
      },
      "source": [
        "import giddy\n",
        "import numpy as np\n",
        "import pandas as pd\n",
        "import libpysal as ps\n",
        "#from giddy.markov import classic_Markov\n",
        "from giddy.markov import Spatial_Markov"
      ],
      "execution_count": null,
      "outputs": [
        {
          "output_type": "stream",
          "text": [
            "/usr/local/lib/python3.6/dist-packages/libpysal/weights/util.py:20: UserWarning: geopandas not available. Some functionality will be disabled.\n",
            "  warn('geopandas not available. Some functionality will be disabled.')\n"
          ],
          "name": "stderr"
        }
      ]
    },
    {
      "cell_type": "code",
      "metadata": {
        "id": "qkzzstAEEpCJ",
        "colab_type": "code",
        "colab": {
          "resources": {
            "http://localhost:8080/nbextensions/google.colab/files.js": {
              "data": "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",
              "ok": true,
              "headers": [
                [
                  "content-type",
                  "application/javascript"
                ]
              ],
              "status": 200,
              "status_text": ""
            }
          },
          "base_uri": "https://localhost:8080/",
          "height": 75
        },
        "outputId": "46362817-e661-4872-fd5a-2e49c84a69e7"
      },
      "source": [
        "from google.colab import files\n",
        "\n",
        "uploaded = files.upload()"
      ],
      "execution_count": null,
      "outputs": [
        {
          "output_type": "display_data",
          "data": {
            "text/html": [
              "\n",
              "     <input type=\"file\" id=\"files-574b92a7-3230-4a7c-ad04-1c4369d2270a\" name=\"files[]\" multiple disabled />\n",
              "     <output id=\"result-574b92a7-3230-4a7c-ad04-1c4369d2270a\">\n",
              "      Upload widget is only available when the cell has been executed in the\n",
              "      current browser session. Please rerun this cell to enable.\n",
              "      </output>\n",
              "      <script src=\"/nbextensions/google.colab/files.js\"></script> "
            ],
            "text/plain": [
              "<IPython.core.display.HTML object>"
            ]
          },
          "metadata": {
            "tags": []
          }
        },
        {
          "output_type": "stream",
          "text": [
            "Saving Last37API.csv to Last37API.csv\n"
          ],
          "name": "stdout"
        }
      ]
    },
    {
      "cell_type": "code",
      "metadata": {
        "id": "4bCtuZvYE1k2",
        "colab_type": "code",
        "colab": {
          "base_uri": "https://localhost:8080/",
          "height": 300
        },
        "outputId": "f4fee1bc-9601-4db7-acdb-805abcc13523"
      },
      "source": [
        "df = pd.read_csv(\"Last37API.csv\")\n",
        "df.head()"
      ],
      "execution_count": null,
      "outputs": [
        {
          "output_type": "execute_result",
          "data": {
            "text/html": [
              "<div>\n",
              "<style scoped>\n",
              "    .dataframe tbody tr th:only-of-type {\n",
              "        vertical-align: middle;\n",
              "    }\n",
              "\n",
              "    .dataframe tbody tr th {\n",
              "        vertical-align: top;\n",
              "    }\n",
              "\n",
              "    .dataframe thead th {\n",
              "        text-align: right;\n",
              "    }\n",
              "</style>\n",
              "<table border=\"1\" class=\"dataframe\">\n",
              "  <thead>\n",
              "    <tr style=\"text-align: right;\">\n",
              "      <th></th>\n",
              "      <th>Name</th>\n",
              "      <th>STATE_FIPS</th>\n",
              "      <th>1</th>\n",
              "      <th>2</th>\n",
              "      <th>3</th>\n",
              "      <th>4</th>\n",
              "      <th>5</th>\n",
              "      <th>6</th>\n",
              "      <th>7</th>\n",
              "      <th>8</th>\n",
              "      <th>9</th>\n",
              "      <th>10</th>\n",
              "      <th>11</th>\n",
              "      <th>12</th>\n",
              "      <th>13</th>\n",
              "      <th>14</th>\n",
              "      <th>15</th>\n",
              "      <th>16</th>\n",
              "      <th>17</th>\n",
              "      <th>18</th>\n",
              "      <th>19</th>\n",
              "      <th>20</th>\n",
              "      <th>21</th>\n",
              "      <th>22</th>\n",
              "      <th>23</th>\n",
              "      <th>24</th>\n",
              "      <th>25</th>\n",
              "      <th>26</th>\n",
              "      <th>27</th>\n",
              "      <th>28</th>\n",
              "      <th>29</th>\n",
              "      <th>30</th>\n",
              "      <th>31</th>\n",
              "      <th>32</th>\n",
              "      <th>33</th>\n",
              "      <th>34</th>\n",
              "      <th>35</th>\n",
              "      <th>36</th>\n",
              "      <th>37</th>\n",
              "      <th>38</th>\n",
              "      <th>...</th>\n",
              "      <th>1057</th>\n",
              "      <th>1058</th>\n",
              "      <th>1059</th>\n",
              "      <th>1060</th>\n",
              "      <th>1061</th>\n",
              "      <th>1062</th>\n",
              "      <th>1063</th>\n",
              "      <th>1064</th>\n",
              "      <th>1065</th>\n",
              "      <th>1066</th>\n",
              "      <th>1067</th>\n",
              "      <th>1068</th>\n",
              "      <th>1069</th>\n",
              "      <th>1070</th>\n",
              "      <th>1071</th>\n",
              "      <th>1072</th>\n",
              "      <th>1073</th>\n",
              "      <th>1074</th>\n",
              "      <th>1075</th>\n",
              "      <th>1076</th>\n",
              "      <th>1077</th>\n",
              "      <th>1078</th>\n",
              "      <th>1079</th>\n",
              "      <th>1080</th>\n",
              "      <th>1081</th>\n",
              "      <th>1082</th>\n",
              "      <th>1083</th>\n",
              "      <th>1084</th>\n",
              "      <th>1085</th>\n",
              "      <th>1086</th>\n",
              "      <th>1087</th>\n",
              "      <th>1088</th>\n",
              "      <th>1089</th>\n",
              "      <th>1090</th>\n",
              "      <th>1091</th>\n",
              "      <th>1092</th>\n",
              "      <th>1093</th>\n",
              "      <th>1094</th>\n",
              "      <th>1095</th>\n",
              "      <th>1096</th>\n",
              "    </tr>\n",
              "  </thead>\n",
              "  <tbody>\n",
              "    <tr>\n",
              "      <th>0</th>\n",
              "      <td>Johor1</td>\n",
              "      <td>1</td>\n",
              "      <td>50</td>\n",
              "      <td>40</td>\n",
              "      <td>44</td>\n",
              "      <td>46.0</td>\n",
              "      <td>45.0</td>\n",
              "      <td>46.0</td>\n",
              "      <td>43</td>\n",
              "      <td>40</td>\n",
              "      <td>42</td>\n",
              "      <td>42.0</td>\n",
              "      <td>41</td>\n",
              "      <td>39.0</td>\n",
              "      <td>34</td>\n",
              "      <td>43.0</td>\n",
              "      <td>63.0</td>\n",
              "      <td>82</td>\n",
              "      <td>57.0</td>\n",
              "      <td>47.0</td>\n",
              "      <td>57.0</td>\n",
              "      <td>52.0</td>\n",
              "      <td>49.0</td>\n",
              "      <td>51</td>\n",
              "      <td>44</td>\n",
              "      <td>38.0</td>\n",
              "      <td>44.0</td>\n",
              "      <td>38</td>\n",
              "      <td>34</td>\n",
              "      <td>29</td>\n",
              "      <td>27.0</td>\n",
              "      <td>32</td>\n",
              "      <td>25.0</td>\n",
              "      <td>31.0</td>\n",
              "      <td>34.0</td>\n",
              "      <td>33</td>\n",
              "      <td>45.0</td>\n",
              "      <td>50</td>\n",
              "      <td>39.0</td>\n",
              "      <td>36</td>\n",
              "      <td>...</td>\n",
              "      <td>37</td>\n",
              "      <td>40.0</td>\n",
              "      <td>43.0</td>\n",
              "      <td>46.0</td>\n",
              "      <td>41</td>\n",
              "      <td>41.0</td>\n",
              "      <td>43.0</td>\n",
              "      <td>50.0</td>\n",
              "      <td>54.0</td>\n",
              "      <td>51</td>\n",
              "      <td>50.0</td>\n",
              "      <td>51</td>\n",
              "      <td>50</td>\n",
              "      <td>90</td>\n",
              "      <td>49</td>\n",
              "      <td>37</td>\n",
              "      <td>32</td>\n",
              "      <td>38.0</td>\n",
              "      <td>42.0</td>\n",
              "      <td>47</td>\n",
              "      <td>45.0</td>\n",
              "      <td>39.0</td>\n",
              "      <td>43</td>\n",
              "      <td>35</td>\n",
              "      <td>36</td>\n",
              "      <td>38.0</td>\n",
              "      <td>40.0</td>\n",
              "      <td>28</td>\n",
              "      <td>32</td>\n",
              "      <td>31.0</td>\n",
              "      <td>32.0</td>\n",
              "      <td>36.0</td>\n",
              "      <td>35</td>\n",
              "      <td>43</td>\n",
              "      <td>43.0</td>\n",
              "      <td>34</td>\n",
              "      <td>31</td>\n",
              "      <td>30</td>\n",
              "      <td>32</td>\n",
              "      <td>41</td>\n",
              "    </tr>\n",
              "    <tr>\n",
              "      <th>1</th>\n",
              "      <td>Terengganu1</td>\n",
              "      <td>2</td>\n",
              "      <td>43</td>\n",
              "      <td>51</td>\n",
              "      <td>55</td>\n",
              "      <td>54.0</td>\n",
              "      <td>54.0</td>\n",
              "      <td>54.0</td>\n",
              "      <td>52</td>\n",
              "      <td>53</td>\n",
              "      <td>53</td>\n",
              "      <td>47.0</td>\n",
              "      <td>51</td>\n",
              "      <td>51.0</td>\n",
              "      <td>54</td>\n",
              "      <td>46.0</td>\n",
              "      <td>51.0</td>\n",
              "      <td>60</td>\n",
              "      <td>60.0</td>\n",
              "      <td>60.0</td>\n",
              "      <td>64.0</td>\n",
              "      <td>63.0</td>\n",
              "      <td>49.0</td>\n",
              "      <td>51</td>\n",
              "      <td>50</td>\n",
              "      <td>52.0</td>\n",
              "      <td>54.0</td>\n",
              "      <td>57</td>\n",
              "      <td>59</td>\n",
              "      <td>52</td>\n",
              "      <td>37.0</td>\n",
              "      <td>41</td>\n",
              "      <td>51.0</td>\n",
              "      <td>64.0</td>\n",
              "      <td>65.0</td>\n",
              "      <td>61</td>\n",
              "      <td>62.0</td>\n",
              "      <td>61</td>\n",
              "      <td>49.0</td>\n",
              "      <td>56</td>\n",
              "      <td>...</td>\n",
              "      <td>34</td>\n",
              "      <td>49.0</td>\n",
              "      <td>33.0</td>\n",
              "      <td>36.0</td>\n",
              "      <td>33</td>\n",
              "      <td>35.0</td>\n",
              "      <td>42.0</td>\n",
              "      <td>38.0</td>\n",
              "      <td>50.0</td>\n",
              "      <td>41</td>\n",
              "      <td>39.0</td>\n",
              "      <td>35</td>\n",
              "      <td>39</td>\n",
              "      <td>39</td>\n",
              "      <td>49</td>\n",
              "      <td>53</td>\n",
              "      <td>51</td>\n",
              "      <td>52.0</td>\n",
              "      <td>50.0</td>\n",
              "      <td>48</td>\n",
              "      <td>45.0</td>\n",
              "      <td>41.0</td>\n",
              "      <td>39</td>\n",
              "      <td>46</td>\n",
              "      <td>41</td>\n",
              "      <td>45.0</td>\n",
              "      <td>47.0</td>\n",
              "      <td>42</td>\n",
              "      <td>49</td>\n",
              "      <td>51.0</td>\n",
              "      <td>50.0</td>\n",
              "      <td>51.0</td>\n",
              "      <td>40</td>\n",
              "      <td>42</td>\n",
              "      <td>44.0</td>\n",
              "      <td>50</td>\n",
              "      <td>52</td>\n",
              "      <td>53</td>\n",
              "      <td>51</td>\n",
              "      <td>51</td>\n",
              "    </tr>\n",
              "    <tr>\n",
              "      <th>2</th>\n",
              "      <td>Pulau Pinang1</td>\n",
              "      <td>3</td>\n",
              "      <td>37</td>\n",
              "      <td>47</td>\n",
              "      <td>63</td>\n",
              "      <td>54.0</td>\n",
              "      <td>49.0</td>\n",
              "      <td>51.0</td>\n",
              "      <td>42</td>\n",
              "      <td>46</td>\n",
              "      <td>41</td>\n",
              "      <td>42.0</td>\n",
              "      <td>44</td>\n",
              "      <td>46.0</td>\n",
              "      <td>36</td>\n",
              "      <td>41.0</td>\n",
              "      <td>45.0</td>\n",
              "      <td>54</td>\n",
              "      <td>53.0</td>\n",
              "      <td>46.0</td>\n",
              "      <td>45.0</td>\n",
              "      <td>50.0</td>\n",
              "      <td>40.0</td>\n",
              "      <td>53</td>\n",
              "      <td>40</td>\n",
              "      <td>41.0</td>\n",
              "      <td>45.0</td>\n",
              "      <td>41</td>\n",
              "      <td>62</td>\n",
              "      <td>48</td>\n",
              "      <td>47.0</td>\n",
              "      <td>48</td>\n",
              "      <td>76.0</td>\n",
              "      <td>50.0</td>\n",
              "      <td>49.0</td>\n",
              "      <td>40</td>\n",
              "      <td>39.0</td>\n",
              "      <td>46</td>\n",
              "      <td>51.0</td>\n",
              "      <td>47</td>\n",
              "      <td>...</td>\n",
              "      <td>39</td>\n",
              "      <td>55.0</td>\n",
              "      <td>60.0</td>\n",
              "      <td>42.0</td>\n",
              "      <td>53</td>\n",
              "      <td>36.0</td>\n",
              "      <td>31.0</td>\n",
              "      <td>59.0</td>\n",
              "      <td>38.0</td>\n",
              "      <td>50</td>\n",
              "      <td>45.0</td>\n",
              "      <td>42</td>\n",
              "      <td>87</td>\n",
              "      <td>61</td>\n",
              "      <td>40</td>\n",
              "      <td>40</td>\n",
              "      <td>37</td>\n",
              "      <td>65.0</td>\n",
              "      <td>56.0</td>\n",
              "      <td>42</td>\n",
              "      <td>46.0</td>\n",
              "      <td>56.0</td>\n",
              "      <td>48</td>\n",
              "      <td>30</td>\n",
              "      <td>36</td>\n",
              "      <td>42.0</td>\n",
              "      <td>28.0</td>\n",
              "      <td>38</td>\n",
              "      <td>37</td>\n",
              "      <td>29.0</td>\n",
              "      <td>27.0</td>\n",
              "      <td>30.0</td>\n",
              "      <td>29</td>\n",
              "      <td>32</td>\n",
              "      <td>30.0</td>\n",
              "      <td>58</td>\n",
              "      <td>34</td>\n",
              "      <td>27</td>\n",
              "      <td>52</td>\n",
              "      <td>57</td>\n",
              "    </tr>\n",
              "    <tr>\n",
              "      <th>3</th>\n",
              "      <td>Bukit Rambai, Melaka1</td>\n",
              "      <td>6</td>\n",
              "      <td>49</td>\n",
              "      <td>51</td>\n",
              "      <td>55</td>\n",
              "      <td>55.0</td>\n",
              "      <td>56.0</td>\n",
              "      <td>56.0</td>\n",
              "      <td>56</td>\n",
              "      <td>53</td>\n",
              "      <td>55</td>\n",
              "      <td>57.0</td>\n",
              "      <td>53</td>\n",
              "      <td>57.0</td>\n",
              "      <td>55</td>\n",
              "      <td>67.0</td>\n",
              "      <td>61.0</td>\n",
              "      <td>51</td>\n",
              "      <td>70.0</td>\n",
              "      <td>56.0</td>\n",
              "      <td>57.0</td>\n",
              "      <td>55.0</td>\n",
              "      <td>74.0</td>\n",
              "      <td>47</td>\n",
              "      <td>39</td>\n",
              "      <td>57.0</td>\n",
              "      <td>59.0</td>\n",
              "      <td>53</td>\n",
              "      <td>56</td>\n",
              "      <td>54</td>\n",
              "      <td>54.0</td>\n",
              "      <td>55</td>\n",
              "      <td>53.0</td>\n",
              "      <td>51.0</td>\n",
              "      <td>51.0</td>\n",
              "      <td>54</td>\n",
              "      <td>54.0</td>\n",
              "      <td>56</td>\n",
              "      <td>61.0</td>\n",
              "      <td>54</td>\n",
              "      <td>...</td>\n",
              "      <td>62</td>\n",
              "      <td>60.0</td>\n",
              "      <td>47.0</td>\n",
              "      <td>52.0</td>\n",
              "      <td>48</td>\n",
              "      <td>55.0</td>\n",
              "      <td>51.0</td>\n",
              "      <td>47.0</td>\n",
              "      <td>61.0</td>\n",
              "      <td>51</td>\n",
              "      <td>51.0</td>\n",
              "      <td>53</td>\n",
              "      <td>48</td>\n",
              "      <td>66</td>\n",
              "      <td>61</td>\n",
              "      <td>64</td>\n",
              "      <td>48</td>\n",
              "      <td>61.0</td>\n",
              "      <td>62.0</td>\n",
              "      <td>66</td>\n",
              "      <td>63.0</td>\n",
              "      <td>59.0</td>\n",
              "      <td>51</td>\n",
              "      <td>46</td>\n",
              "      <td>52</td>\n",
              "      <td>57.0</td>\n",
              "      <td>56.0</td>\n",
              "      <td>53</td>\n",
              "      <td>58</td>\n",
              "      <td>51.0</td>\n",
              "      <td>38.0</td>\n",
              "      <td>33.0</td>\n",
              "      <td>42</td>\n",
              "      <td>42</td>\n",
              "      <td>39.0</td>\n",
              "      <td>41</td>\n",
              "      <td>36</td>\n",
              "      <td>35</td>\n",
              "      <td>51</td>\n",
              "      <td>56</td>\n",
              "    </tr>\n",
              "    <tr>\n",
              "      <th>4</th>\n",
              "      <td>Pahang1</td>\n",
              "      <td>7</td>\n",
              "      <td>26</td>\n",
              "      <td>24</td>\n",
              "      <td>25</td>\n",
              "      <td>25.0</td>\n",
              "      <td>25.0</td>\n",
              "      <td>24.0</td>\n",
              "      <td>30</td>\n",
              "      <td>27</td>\n",
              "      <td>25</td>\n",
              "      <td>22.0</td>\n",
              "      <td>20</td>\n",
              "      <td>27.0</td>\n",
              "      <td>24</td>\n",
              "      <td>22.0</td>\n",
              "      <td>25.0</td>\n",
              "      <td>34</td>\n",
              "      <td>36.0</td>\n",
              "      <td>36.0</td>\n",
              "      <td>40.0</td>\n",
              "      <td>36.0</td>\n",
              "      <td>34.0</td>\n",
              "      <td>17</td>\n",
              "      <td>18</td>\n",
              "      <td>23.0</td>\n",
              "      <td>25.0</td>\n",
              "      <td>25</td>\n",
              "      <td>22</td>\n",
              "      <td>19</td>\n",
              "      <td>19.0</td>\n",
              "      <td>21</td>\n",
              "      <td>25.0</td>\n",
              "      <td>19.0</td>\n",
              "      <td>23.0</td>\n",
              "      <td>25</td>\n",
              "      <td>21.0</td>\n",
              "      <td>25</td>\n",
              "      <td>21.0</td>\n",
              "      <td>25</td>\n",
              "      <td>...</td>\n",
              "      <td>26</td>\n",
              "      <td>30.0</td>\n",
              "      <td>32.0</td>\n",
              "      <td>32.0</td>\n",
              "      <td>34</td>\n",
              "      <td>34.0</td>\n",
              "      <td>34.0</td>\n",
              "      <td>34.0</td>\n",
              "      <td>40.0</td>\n",
              "      <td>45</td>\n",
              "      <td>42.0</td>\n",
              "      <td>41</td>\n",
              "      <td>41</td>\n",
              "      <td>36</td>\n",
              "      <td>34</td>\n",
              "      <td>30</td>\n",
              "      <td>28</td>\n",
              "      <td>30.0</td>\n",
              "      <td>42.0</td>\n",
              "      <td>47</td>\n",
              "      <td>40.0</td>\n",
              "      <td>33.0</td>\n",
              "      <td>32</td>\n",
              "      <td>29</td>\n",
              "      <td>26</td>\n",
              "      <td>25.0</td>\n",
              "      <td>30.0</td>\n",
              "      <td>43</td>\n",
              "      <td>42</td>\n",
              "      <td>38.0</td>\n",
              "      <td>34.0</td>\n",
              "      <td>31.0</td>\n",
              "      <td>26</td>\n",
              "      <td>25</td>\n",
              "      <td>25.0</td>\n",
              "      <td>25</td>\n",
              "      <td>27</td>\n",
              "      <td>25</td>\n",
              "      <td>34</td>\n",
              "      <td>39</td>\n",
              "    </tr>\n",
              "  </tbody>\n",
              "</table>\n",
              "<p>5 rows × 1098 columns</p>\n",
              "</div>"
            ],
            "text/plain": [
              "                    Name  STATE_FIPS   1   2   3  ...  1092  1093  1094  1095  1096\n",
              "0                 Johor1           1  50  40  44  ...    34    31    30    32    41\n",
              "1            Terengganu1           2  43  51  55  ...    50    52    53    51    51\n",
              "2          Pulau Pinang1           3  37  47  63  ...    58    34    27    52    57\n",
              "3  Bukit Rambai, Melaka1           6  49  51  55  ...    41    36    35    51    56\n",
              "4                Pahang1           7  26  24  25  ...    25    27    25    34    39\n",
              "\n",
              "[5 rows x 1098 columns]"
            ]
          },
          "metadata": {
            "tags": []
          },
          "execution_count": 83
        }
      ]
    },
    {
      "cell_type": "code",
      "metadata": {
        "id": "myMtilv6RLpw",
        "colab_type": "code",
        "colab": {}
      },
      "source": [
        "df = pd.read_csv(\"Last-37-API-data-MAX.csv\")\n",
        "df.head()"
      ],
      "execution_count": null,
      "outputs": []
    },
    {
      "cell_type": "code",
      "metadata": {
        "id": "V9FEJ1mT1A0v",
        "colab_type": "code",
        "colab": {
          "resources": {
            "http://localhost:8080/nbextensions/google.colab/files.js": {
              "data": "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",
              "ok": true,
              "headers": [
                [
                  "content-type",
                  "application/javascript"
                ]
              ],
              "status": 200,
              "status_text": ""
            }
          },
          "base_uri": "https://localhost:8080/",
          "height": 75
        },
        "outputId": "09965916-a991-4699-dc57-c14acb7964f4"
      },
      "source": [
        "from google.colab import files\n",
        "\n",
        "uploaded = files.upload()"
      ],
      "execution_count": null,
      "outputs": [
        {
          "output_type": "display_data",
          "data": {
            "text/html": [
              "\n",
              "     <input type=\"file\" id=\"files-ab0ff9ac-ec1d-4c05-b395-838ce4654486\" name=\"files[]\" multiple disabled />\n",
              "     <output id=\"result-ab0ff9ac-ec1d-4c05-b395-838ce4654486\">\n",
              "      Upload widget is only available when the cell has been executed in the\n",
              "      current browser session. Please rerun this cell to enable.\n",
              "      </output>\n",
              "      <script src=\"/nbextensions/google.colab/files.js\"></script> "
            ],
            "text/plain": [
              "<IPython.core.display.HTML object>"
            ]
          },
          "metadata": {
            "tags": []
          }
        },
        {
          "output_type": "stream",
          "text": [
            "Saving numbers_Last37API -.csv to numbers_Last37API -.csv\n"
          ],
          "name": "stdout"
        }
      ]
    },
    {
      "cell_type": "code",
      "metadata": {
        "id": "bDp-PaMn1Dk3",
        "colab_type": "code",
        "colab": {
          "base_uri": "https://localhost:8080/",
          "height": 300
        },
        "outputId": "2b7859d6-f85c-4b92-bbcf-696c731fc963"
      },
      "source": [
        "df = pd.read_csv(\"numbers_Last37API -.csv\")\n",
        "df.head()"
      ],
      "execution_count": null,
      "outputs": [
        {
          "output_type": "execute_result",
          "data": {
            "text/html": [
              "<div>\n",
              "<style scoped>\n",
              "    .dataframe tbody tr th:only-of-type {\n",
              "        vertical-align: middle;\n",
              "    }\n",
              "\n",
              "    .dataframe tbody tr th {\n",
              "        vertical-align: top;\n",
              "    }\n",
              "\n",
              "    .dataframe thead th {\n",
              "        text-align: right;\n",
              "    }\n",
              "</style>\n",
              "<table border=\"1\" class=\"dataframe\">\n",
              "  <thead>\n",
              "    <tr style=\"text-align: right;\">\n",
              "      <th></th>\n",
              "      <th>Name</th>\n",
              "      <th>STATE_FIPS</th>\n",
              "      <th>1</th>\n",
              "      <th>2</th>\n",
              "      <th>3</th>\n",
              "      <th>4</th>\n",
              "      <th>5</th>\n",
              "      <th>6</th>\n",
              "      <th>7</th>\n",
              "      <th>8</th>\n",
              "      <th>9</th>\n",
              "      <th>10</th>\n",
              "      <th>11</th>\n",
              "      <th>12</th>\n",
              "      <th>13</th>\n",
              "      <th>14</th>\n",
              "      <th>15</th>\n",
              "      <th>16</th>\n",
              "      <th>17</th>\n",
              "      <th>18</th>\n",
              "      <th>19</th>\n",
              "      <th>20</th>\n",
              "      <th>21</th>\n",
              "      <th>22</th>\n",
              "      <th>23</th>\n",
              "      <th>24</th>\n",
              "      <th>25</th>\n",
              "      <th>26</th>\n",
              "      <th>27</th>\n",
              "      <th>28</th>\n",
              "      <th>29</th>\n",
              "      <th>30</th>\n",
              "      <th>31</th>\n",
              "      <th>32</th>\n",
              "      <th>33</th>\n",
              "      <th>34</th>\n",
              "      <th>35</th>\n",
              "      <th>36</th>\n",
              "      <th>37</th>\n",
              "      <th>38</th>\n",
              "      <th>...</th>\n",
              "      <th>1057</th>\n",
              "      <th>1058</th>\n",
              "      <th>1059</th>\n",
              "      <th>1060</th>\n",
              "      <th>1061</th>\n",
              "      <th>1062</th>\n",
              "      <th>1063</th>\n",
              "      <th>1064</th>\n",
              "      <th>1065</th>\n",
              "      <th>1066</th>\n",
              "      <th>1067</th>\n",
              "      <th>1068</th>\n",
              "      <th>1069</th>\n",
              "      <th>1070</th>\n",
              "      <th>1071</th>\n",
              "      <th>1072</th>\n",
              "      <th>1073</th>\n",
              "      <th>1074</th>\n",
              "      <th>1075</th>\n",
              "      <th>1076</th>\n",
              "      <th>1077</th>\n",
              "      <th>1078</th>\n",
              "      <th>1079</th>\n",
              "      <th>1080</th>\n",
              "      <th>1081</th>\n",
              "      <th>1082</th>\n",
              "      <th>1083</th>\n",
              "      <th>1084</th>\n",
              "      <th>1085</th>\n",
              "      <th>1086</th>\n",
              "      <th>1087</th>\n",
              "      <th>1088</th>\n",
              "      <th>1089</th>\n",
              "      <th>1090</th>\n",
              "      <th>1091</th>\n",
              "      <th>1092</th>\n",
              "      <th>1093</th>\n",
              "      <th>1094</th>\n",
              "      <th>1095</th>\n",
              "      <th>1096</th>\n",
              "    </tr>\n",
              "  </thead>\n",
              "  <tbody>\n",
              "    <tr>\n",
              "      <th>0</th>\n",
              "      <td>Johor1</td>\n",
              "      <td>1</td>\n",
              "      <td>1</td>\n",
              "      <td>1</td>\n",
              "      <td>1</td>\n",
              "      <td>1</td>\n",
              "      <td>1</td>\n",
              "      <td>1</td>\n",
              "      <td>1</td>\n",
              "      <td>1</td>\n",
              "      <td>1</td>\n",
              "      <td>1</td>\n",
              "      <td>1</td>\n",
              "      <td>1</td>\n",
              "      <td>1</td>\n",
              "      <td>1</td>\n",
              "      <td>2</td>\n",
              "      <td>2</td>\n",
              "      <td>2</td>\n",
              "      <td>1</td>\n",
              "      <td>2</td>\n",
              "      <td>2</td>\n",
              "      <td>1</td>\n",
              "      <td>2</td>\n",
              "      <td>1</td>\n",
              "      <td>1</td>\n",
              "      <td>1</td>\n",
              "      <td>1</td>\n",
              "      <td>1</td>\n",
              "      <td>1</td>\n",
              "      <td>1</td>\n",
              "      <td>1</td>\n",
              "      <td>1</td>\n",
              "      <td>1</td>\n",
              "      <td>1</td>\n",
              "      <td>1</td>\n",
              "      <td>1</td>\n",
              "      <td>1</td>\n",
              "      <td>1</td>\n",
              "      <td>1</td>\n",
              "      <td>...</td>\n",
              "      <td>1</td>\n",
              "      <td>1</td>\n",
              "      <td>1</td>\n",
              "      <td>1</td>\n",
              "      <td>1</td>\n",
              "      <td>1</td>\n",
              "      <td>1</td>\n",
              "      <td>1</td>\n",
              "      <td>2</td>\n",
              "      <td>2</td>\n",
              "      <td>1</td>\n",
              "      <td>2</td>\n",
              "      <td>1</td>\n",
              "      <td>2</td>\n",
              "      <td>1</td>\n",
              "      <td>1</td>\n",
              "      <td>1</td>\n",
              "      <td>1</td>\n",
              "      <td>1</td>\n",
              "      <td>1</td>\n",
              "      <td>1</td>\n",
              "      <td>1</td>\n",
              "      <td>1</td>\n",
              "      <td>1</td>\n",
              "      <td>1</td>\n",
              "      <td>1</td>\n",
              "      <td>1</td>\n",
              "      <td>1</td>\n",
              "      <td>1</td>\n",
              "      <td>1</td>\n",
              "      <td>1</td>\n",
              "      <td>1</td>\n",
              "      <td>1</td>\n",
              "      <td>1</td>\n",
              "      <td>1</td>\n",
              "      <td>1</td>\n",
              "      <td>1</td>\n",
              "      <td>1</td>\n",
              "      <td>1</td>\n",
              "      <td>1</td>\n",
              "    </tr>\n",
              "    <tr>\n",
              "      <th>1</th>\n",
              "      <td>Terengganu1</td>\n",
              "      <td>2</td>\n",
              "      <td>1</td>\n",
              "      <td>2</td>\n",
              "      <td>2</td>\n",
              "      <td>2</td>\n",
              "      <td>2</td>\n",
              "      <td>2</td>\n",
              "      <td>2</td>\n",
              "      <td>2</td>\n",
              "      <td>2</td>\n",
              "      <td>1</td>\n",
              "      <td>2</td>\n",
              "      <td>2</td>\n",
              "      <td>2</td>\n",
              "      <td>1</td>\n",
              "      <td>2</td>\n",
              "      <td>2</td>\n",
              "      <td>2</td>\n",
              "      <td>2</td>\n",
              "      <td>2</td>\n",
              "      <td>2</td>\n",
              "      <td>1</td>\n",
              "      <td>2</td>\n",
              "      <td>1</td>\n",
              "      <td>2</td>\n",
              "      <td>2</td>\n",
              "      <td>2</td>\n",
              "      <td>2</td>\n",
              "      <td>2</td>\n",
              "      <td>1</td>\n",
              "      <td>1</td>\n",
              "      <td>2</td>\n",
              "      <td>2</td>\n",
              "      <td>2</td>\n",
              "      <td>2</td>\n",
              "      <td>2</td>\n",
              "      <td>2</td>\n",
              "      <td>1</td>\n",
              "      <td>2</td>\n",
              "      <td>...</td>\n",
              "      <td>1</td>\n",
              "      <td>1</td>\n",
              "      <td>1</td>\n",
              "      <td>1</td>\n",
              "      <td>1</td>\n",
              "      <td>1</td>\n",
              "      <td>1</td>\n",
              "      <td>1</td>\n",
              "      <td>1</td>\n",
              "      <td>1</td>\n",
              "      <td>1</td>\n",
              "      <td>1</td>\n",
              "      <td>1</td>\n",
              "      <td>1</td>\n",
              "      <td>1</td>\n",
              "      <td>2</td>\n",
              "      <td>2</td>\n",
              "      <td>2</td>\n",
              "      <td>1</td>\n",
              "      <td>1</td>\n",
              "      <td>1</td>\n",
              "      <td>1</td>\n",
              "      <td>1</td>\n",
              "      <td>1</td>\n",
              "      <td>1</td>\n",
              "      <td>1</td>\n",
              "      <td>1</td>\n",
              "      <td>1</td>\n",
              "      <td>1</td>\n",
              "      <td>2</td>\n",
              "      <td>1</td>\n",
              "      <td>2</td>\n",
              "      <td>1</td>\n",
              "      <td>1</td>\n",
              "      <td>1</td>\n",
              "      <td>1</td>\n",
              "      <td>2</td>\n",
              "      <td>2</td>\n",
              "      <td>2</td>\n",
              "      <td>2</td>\n",
              "    </tr>\n",
              "    <tr>\n",
              "      <th>2</th>\n",
              "      <td>Pulau Pinang1</td>\n",
              "      <td>3</td>\n",
              "      <td>1</td>\n",
              "      <td>1</td>\n",
              "      <td>2</td>\n",
              "      <td>2</td>\n",
              "      <td>1</td>\n",
              "      <td>2</td>\n",
              "      <td>1</td>\n",
              "      <td>1</td>\n",
              "      <td>1</td>\n",
              "      <td>1</td>\n",
              "      <td>1</td>\n",
              "      <td>1</td>\n",
              "      <td>1</td>\n",
              "      <td>1</td>\n",
              "      <td>1</td>\n",
              "      <td>2</td>\n",
              "      <td>2</td>\n",
              "      <td>1</td>\n",
              "      <td>1</td>\n",
              "      <td>1</td>\n",
              "      <td>1</td>\n",
              "      <td>2</td>\n",
              "      <td>1</td>\n",
              "      <td>1</td>\n",
              "      <td>1</td>\n",
              "      <td>1</td>\n",
              "      <td>2</td>\n",
              "      <td>1</td>\n",
              "      <td>1</td>\n",
              "      <td>1</td>\n",
              "      <td>2</td>\n",
              "      <td>1</td>\n",
              "      <td>1</td>\n",
              "      <td>1</td>\n",
              "      <td>1</td>\n",
              "      <td>1</td>\n",
              "      <td>2</td>\n",
              "      <td>1</td>\n",
              "      <td>...</td>\n",
              "      <td>1</td>\n",
              "      <td>2</td>\n",
              "      <td>2</td>\n",
              "      <td>1</td>\n",
              "      <td>2</td>\n",
              "      <td>1</td>\n",
              "      <td>1</td>\n",
              "      <td>2</td>\n",
              "      <td>1</td>\n",
              "      <td>1</td>\n",
              "      <td>1</td>\n",
              "      <td>1</td>\n",
              "      <td>2</td>\n",
              "      <td>2</td>\n",
              "      <td>1</td>\n",
              "      <td>1</td>\n",
              "      <td>1</td>\n",
              "      <td>2</td>\n",
              "      <td>2</td>\n",
              "      <td>1</td>\n",
              "      <td>1</td>\n",
              "      <td>2</td>\n",
              "      <td>1</td>\n",
              "      <td>1</td>\n",
              "      <td>1</td>\n",
              "      <td>1</td>\n",
              "      <td>1</td>\n",
              "      <td>1</td>\n",
              "      <td>1</td>\n",
              "      <td>1</td>\n",
              "      <td>1</td>\n",
              "      <td>1</td>\n",
              "      <td>1</td>\n",
              "      <td>1</td>\n",
              "      <td>1</td>\n",
              "      <td>2</td>\n",
              "      <td>1</td>\n",
              "      <td>1</td>\n",
              "      <td>2</td>\n",
              "      <td>2</td>\n",
              "    </tr>\n",
              "    <tr>\n",
              "      <th>3</th>\n",
              "      <td>Bukit Rambai, Melaka1</td>\n",
              "      <td>6</td>\n",
              "      <td>1</td>\n",
              "      <td>2</td>\n",
              "      <td>2</td>\n",
              "      <td>2</td>\n",
              "      <td>2</td>\n",
              "      <td>2</td>\n",
              "      <td>2</td>\n",
              "      <td>2</td>\n",
              "      <td>2</td>\n",
              "      <td>2</td>\n",
              "      <td>2</td>\n",
              "      <td>2</td>\n",
              "      <td>2</td>\n",
              "      <td>2</td>\n",
              "      <td>2</td>\n",
              "      <td>2</td>\n",
              "      <td>2</td>\n",
              "      <td>2</td>\n",
              "      <td>2</td>\n",
              "      <td>2</td>\n",
              "      <td>2</td>\n",
              "      <td>1</td>\n",
              "      <td>1</td>\n",
              "      <td>2</td>\n",
              "      <td>2</td>\n",
              "      <td>2</td>\n",
              "      <td>2</td>\n",
              "      <td>2</td>\n",
              "      <td>2</td>\n",
              "      <td>2</td>\n",
              "      <td>2</td>\n",
              "      <td>2</td>\n",
              "      <td>2</td>\n",
              "      <td>2</td>\n",
              "      <td>2</td>\n",
              "      <td>2</td>\n",
              "      <td>2</td>\n",
              "      <td>2</td>\n",
              "      <td>...</td>\n",
              "      <td>2</td>\n",
              "      <td>2</td>\n",
              "      <td>1</td>\n",
              "      <td>2</td>\n",
              "      <td>1</td>\n",
              "      <td>2</td>\n",
              "      <td>2</td>\n",
              "      <td>1</td>\n",
              "      <td>2</td>\n",
              "      <td>2</td>\n",
              "      <td>2</td>\n",
              "      <td>2</td>\n",
              "      <td>1</td>\n",
              "      <td>2</td>\n",
              "      <td>2</td>\n",
              "      <td>2</td>\n",
              "      <td>1</td>\n",
              "      <td>2</td>\n",
              "      <td>2</td>\n",
              "      <td>2</td>\n",
              "      <td>2</td>\n",
              "      <td>2</td>\n",
              "      <td>2</td>\n",
              "      <td>1</td>\n",
              "      <td>2</td>\n",
              "      <td>2</td>\n",
              "      <td>2</td>\n",
              "      <td>2</td>\n",
              "      <td>2</td>\n",
              "      <td>2</td>\n",
              "      <td>1</td>\n",
              "      <td>1</td>\n",
              "      <td>1</td>\n",
              "      <td>1</td>\n",
              "      <td>1</td>\n",
              "      <td>1</td>\n",
              "      <td>1</td>\n",
              "      <td>1</td>\n",
              "      <td>2</td>\n",
              "      <td>2</td>\n",
              "    </tr>\n",
              "    <tr>\n",
              "      <th>4</th>\n",
              "      <td>Pahang1</td>\n",
              "      <td>7</td>\n",
              "      <td>1</td>\n",
              "      <td>1</td>\n",
              "      <td>1</td>\n",
              "      <td>1</td>\n",
              "      <td>1</td>\n",
              "      <td>1</td>\n",
              "      <td>1</td>\n",
              "      <td>1</td>\n",
              "      <td>1</td>\n",
              "      <td>1</td>\n",
              "      <td>1</td>\n",
              "      <td>1</td>\n",
              "      <td>1</td>\n",
              "      <td>1</td>\n",
              "      <td>1</td>\n",
              "      <td>1</td>\n",
              "      <td>1</td>\n",
              "      <td>1</td>\n",
              "      <td>1</td>\n",
              "      <td>1</td>\n",
              "      <td>1</td>\n",
              "      <td>1</td>\n",
              "      <td>1</td>\n",
              "      <td>1</td>\n",
              "      <td>1</td>\n",
              "      <td>1</td>\n",
              "      <td>1</td>\n",
              "      <td>1</td>\n",
              "      <td>1</td>\n",
              "      <td>1</td>\n",
              "      <td>1</td>\n",
              "      <td>1</td>\n",
              "      <td>1</td>\n",
              "      <td>1</td>\n",
              "      <td>1</td>\n",
              "      <td>1</td>\n",
              "      <td>1</td>\n",
              "      <td>1</td>\n",
              "      <td>...</td>\n",
              "      <td>1</td>\n",
              "      <td>1</td>\n",
              "      <td>1</td>\n",
              "      <td>1</td>\n",
              "      <td>1</td>\n",
              "      <td>1</td>\n",
              "      <td>1</td>\n",
              "      <td>1</td>\n",
              "      <td>1</td>\n",
              "      <td>1</td>\n",
              "      <td>1</td>\n",
              "      <td>1</td>\n",
              "      <td>1</td>\n",
              "      <td>1</td>\n",
              "      <td>1</td>\n",
              "      <td>1</td>\n",
              "      <td>1</td>\n",
              "      <td>1</td>\n",
              "      <td>1</td>\n",
              "      <td>1</td>\n",
              "      <td>1</td>\n",
              "      <td>1</td>\n",
              "      <td>1</td>\n",
              "      <td>1</td>\n",
              "      <td>1</td>\n",
              "      <td>1</td>\n",
              "      <td>1</td>\n",
              "      <td>1</td>\n",
              "      <td>1</td>\n",
              "      <td>1</td>\n",
              "      <td>1</td>\n",
              "      <td>1</td>\n",
              "      <td>1</td>\n",
              "      <td>1</td>\n",
              "      <td>1</td>\n",
              "      <td>1</td>\n",
              "      <td>1</td>\n",
              "      <td>1</td>\n",
              "      <td>1</td>\n",
              "      <td>1</td>\n",
              "    </tr>\n",
              "  </tbody>\n",
              "</table>\n",
              "<p>5 rows × 1098 columns</p>\n",
              "</div>"
            ],
            "text/plain": [
              "                    Name  STATE_FIPS  1  2  3  ...  1092  1093  1094  1095  1096\n",
              "0                 Johor1           1  1  1  1  ...     1     1     1     1     1\n",
              "1            Terengganu1           2  1  2  2  ...     1     2     2     2     2\n",
              "2          Pulau Pinang1           3  1  1  2  ...     2     1     1     2     2\n",
              "3  Bukit Rambai, Melaka1           6  1  2  2  ...     1     1     1     2     2\n",
              "4                Pahang1           7  1  1  1  ...     1     1     1     1     1\n",
              "\n",
              "[5 rows x 1098 columns]"
            ]
          },
          "metadata": {
            "tags": []
          },
          "execution_count": 39
        }
      ]
    },
    {
      "cell_type": "markdown",
      "metadata": {
        "id": "HOuegtln-LNx",
        "colab_type": "text"
      },
      "source": [
        "## Read the air pollution data for 37 regions (observation stations)"
      ]
    },
    {
      "cell_type": "code",
      "metadata": {
        "id": "2mrkcmyqID5v",
        "colab_type": "code",
        "colab": {
          "base_uri": "https://localhost:8080/",
          "height": 300
        },
        "outputId": "4e91a7b2-6f70-429f-8271-ce7757ea8f18"
      },
      "source": [
        "df = pd.read_csv(\"Last37API.csv\")\n",
        "df.tail()"
      ],
      "execution_count": null,
      "outputs": [
        {
          "output_type": "execute_result",
          "data": {
            "text/html": [
              "<div>\n",
              "<style scoped>\n",
              "    .dataframe tbody tr th:only-of-type {\n",
              "        vertical-align: middle;\n",
              "    }\n",
              "\n",
              "    .dataframe tbody tr th {\n",
              "        vertical-align: top;\n",
              "    }\n",
              "\n",
              "    .dataframe thead th {\n",
              "        text-align: right;\n",
              "    }\n",
              "</style>\n",
              "<table border=\"1\" class=\"dataframe\">\n",
              "  <thead>\n",
              "    <tr style=\"text-align: right;\">\n",
              "      <th></th>\n",
              "      <th>Name</th>\n",
              "      <th>STATE_FIPS</th>\n",
              "      <th>1</th>\n",
              "      <th>2</th>\n",
              "      <th>3</th>\n",
              "      <th>4</th>\n",
              "      <th>5</th>\n",
              "      <th>6</th>\n",
              "      <th>7</th>\n",
              "      <th>8</th>\n",
              "      <th>9</th>\n",
              "      <th>10</th>\n",
              "      <th>11</th>\n",
              "      <th>12</th>\n",
              "      <th>13</th>\n",
              "      <th>14</th>\n",
              "      <th>15</th>\n",
              "      <th>16</th>\n",
              "      <th>17</th>\n",
              "      <th>18</th>\n",
              "      <th>19</th>\n",
              "      <th>20</th>\n",
              "      <th>21</th>\n",
              "      <th>22</th>\n",
              "      <th>23</th>\n",
              "      <th>24</th>\n",
              "      <th>25</th>\n",
              "      <th>26</th>\n",
              "      <th>27</th>\n",
              "      <th>28</th>\n",
              "      <th>29</th>\n",
              "      <th>30</th>\n",
              "      <th>31</th>\n",
              "      <th>32</th>\n",
              "      <th>33</th>\n",
              "      <th>34</th>\n",
              "      <th>35</th>\n",
              "      <th>36</th>\n",
              "      <th>37</th>\n",
              "      <th>38</th>\n",
              "      <th>...</th>\n",
              "      <th>1057</th>\n",
              "      <th>1058</th>\n",
              "      <th>1059</th>\n",
              "      <th>1060</th>\n",
              "      <th>1061</th>\n",
              "      <th>1062</th>\n",
              "      <th>1063</th>\n",
              "      <th>1064</th>\n",
              "      <th>1065</th>\n",
              "      <th>1066</th>\n",
              "      <th>1067</th>\n",
              "      <th>1068</th>\n",
              "      <th>1069</th>\n",
              "      <th>1070</th>\n",
              "      <th>1071</th>\n",
              "      <th>1072</th>\n",
              "      <th>1073</th>\n",
              "      <th>1074</th>\n",
              "      <th>1075</th>\n",
              "      <th>1076</th>\n",
              "      <th>1077</th>\n",
              "      <th>1078</th>\n",
              "      <th>1079</th>\n",
              "      <th>1080</th>\n",
              "      <th>1081</th>\n",
              "      <th>1082</th>\n",
              "      <th>1083</th>\n",
              "      <th>1084</th>\n",
              "      <th>1085</th>\n",
              "      <th>1086</th>\n",
              "      <th>1087</th>\n",
              "      <th>1088</th>\n",
              "      <th>1089</th>\n",
              "      <th>1090</th>\n",
              "      <th>1091</th>\n",
              "      <th>1092</th>\n",
              "      <th>1093</th>\n",
              "      <th>1094</th>\n",
              "      <th>1095</th>\n",
              "      <th>1096</th>\n",
              "    </tr>\n",
              "  </thead>\n",
              "  <tbody>\n",
              "    <tr>\n",
              "      <th>32</th>\n",
              "      <td>Port Dickson, Nege.Sembilan</td>\n",
              "      <td>56</td>\n",
              "      <td>56</td>\n",
              "      <td>79</td>\n",
              "      <td>43</td>\n",
              "      <td>43.0</td>\n",
              "      <td>50.0</td>\n",
              "      <td>52.0</td>\n",
              "      <td>66</td>\n",
              "      <td>50</td>\n",
              "      <td>46</td>\n",
              "      <td>51.0</td>\n",
              "      <td>53</td>\n",
              "      <td>81.0</td>\n",
              "      <td>61</td>\n",
              "      <td>56.0</td>\n",
              "      <td>52.0</td>\n",
              "      <td>66</td>\n",
              "      <td>81.0</td>\n",
              "      <td>58.0</td>\n",
              "      <td>48.0</td>\n",
              "      <td>51.0</td>\n",
              "      <td>70.0</td>\n",
              "      <td>50</td>\n",
              "      <td>43</td>\n",
              "      <td>83.0</td>\n",
              "      <td>92.0</td>\n",
              "      <td>56</td>\n",
              "      <td>61</td>\n",
              "      <td>85</td>\n",
              "      <td>83.0</td>\n",
              "      <td>53</td>\n",
              "      <td>53.0</td>\n",
              "      <td>45.0</td>\n",
              "      <td>56.0</td>\n",
              "      <td>45</td>\n",
              "      <td>54.0</td>\n",
              "      <td>63</td>\n",
              "      <td>95.0</td>\n",
              "      <td>55</td>\n",
              "      <td>...</td>\n",
              "      <td>65</td>\n",
              "      <td>52.0</td>\n",
              "      <td>54.0</td>\n",
              "      <td>53.0</td>\n",
              "      <td>30</td>\n",
              "      <td>53.0</td>\n",
              "      <td>67.0</td>\n",
              "      <td>38.0</td>\n",
              "      <td>36.0</td>\n",
              "      <td>29</td>\n",
              "      <td>39.0</td>\n",
              "      <td>87</td>\n",
              "      <td>37</td>\n",
              "      <td>97</td>\n",
              "      <td>51</td>\n",
              "      <td>89</td>\n",
              "      <td>35</td>\n",
              "      <td>48.0</td>\n",
              "      <td>81.0</td>\n",
              "      <td>78</td>\n",
              "      <td>99.0</td>\n",
              "      <td>66.0</td>\n",
              "      <td>71</td>\n",
              "      <td>62</td>\n",
              "      <td>72</td>\n",
              "      <td>33.0</td>\n",
              "      <td>66.0</td>\n",
              "      <td>45</td>\n",
              "      <td>61</td>\n",
              "      <td>54.0</td>\n",
              "      <td>56.0</td>\n",
              "      <td>27.0</td>\n",
              "      <td>59</td>\n",
              "      <td>30</td>\n",
              "      <td>32.0</td>\n",
              "      <td>49</td>\n",
              "      <td>74</td>\n",
              "      <td>29</td>\n",
              "      <td>35</td>\n",
              "      <td>48</td>\n",
              "    </tr>\n",
              "    <tr>\n",
              "      <th>33</th>\n",
              "      <td>Kota Tinggi, Johor</td>\n",
              "      <td>57</td>\n",
              "      <td>33</td>\n",
              "      <td>40</td>\n",
              "      <td>44</td>\n",
              "      <td>47.0</td>\n",
              "      <td>48.0</td>\n",
              "      <td>50.0</td>\n",
              "      <td>47</td>\n",
              "      <td>35</td>\n",
              "      <td>46</td>\n",
              "      <td>46.0</td>\n",
              "      <td>46</td>\n",
              "      <td>46.0</td>\n",
              "      <td>40</td>\n",
              "      <td>43.0</td>\n",
              "      <td>44.0</td>\n",
              "      <td>51</td>\n",
              "      <td>48.0</td>\n",
              "      <td>54.0</td>\n",
              "      <td>52.0</td>\n",
              "      <td>46.0</td>\n",
              "      <td>46.0</td>\n",
              "      <td>40</td>\n",
              "      <td>40</td>\n",
              "      <td>42.0</td>\n",
              "      <td>47.0</td>\n",
              "      <td>50</td>\n",
              "      <td>52</td>\n",
              "      <td>45</td>\n",
              "      <td>36.0</td>\n",
              "      <td>34</td>\n",
              "      <td>35.0</td>\n",
              "      <td>40.0</td>\n",
              "      <td>41.0</td>\n",
              "      <td>38</td>\n",
              "      <td>44.0</td>\n",
              "      <td>48</td>\n",
              "      <td>45.0</td>\n",
              "      <td>40</td>\n",
              "      <td>...</td>\n",
              "      <td>32</td>\n",
              "      <td>29.0</td>\n",
              "      <td>27.0</td>\n",
              "      <td>25.0</td>\n",
              "      <td>27</td>\n",
              "      <td>26.0</td>\n",
              "      <td>32.0</td>\n",
              "      <td>31.0</td>\n",
              "      <td>77.0</td>\n",
              "      <td>76</td>\n",
              "      <td>87.0</td>\n",
              "      <td>56</td>\n",
              "      <td>44</td>\n",
              "      <td>82</td>\n",
              "      <td>38</td>\n",
              "      <td>39</td>\n",
              "      <td>35</td>\n",
              "      <td>39.0</td>\n",
              "      <td>46.0</td>\n",
              "      <td>49</td>\n",
              "      <td>48.0</td>\n",
              "      <td>46.0</td>\n",
              "      <td>39</td>\n",
              "      <td>35</td>\n",
              "      <td>36</td>\n",
              "      <td>34.0</td>\n",
              "      <td>40.0</td>\n",
              "      <td>39</td>\n",
              "      <td>46</td>\n",
              "      <td>40.0</td>\n",
              "      <td>37.0</td>\n",
              "      <td>39.0</td>\n",
              "      <td>37</td>\n",
              "      <td>57</td>\n",
              "      <td>39.0</td>\n",
              "      <td>33</td>\n",
              "      <td>31</td>\n",
              "      <td>32</td>\n",
              "      <td>40</td>\n",
              "      <td>47</td>\n",
              "    </tr>\n",
              "    <tr>\n",
              "      <th>34</th>\n",
              "      <td>Kuala Lumpur</td>\n",
              "      <td>58</td>\n",
              "      <td>47</td>\n",
              "      <td>66</td>\n",
              "      <td>37</td>\n",
              "      <td>28.0</td>\n",
              "      <td>30.0</td>\n",
              "      <td>34.0</td>\n",
              "      <td>49</td>\n",
              "      <td>41</td>\n",
              "      <td>41</td>\n",
              "      <td>39.0</td>\n",
              "      <td>45</td>\n",
              "      <td>31.0</td>\n",
              "      <td>36</td>\n",
              "      <td>89.0</td>\n",
              "      <td>73.0</td>\n",
              "      <td>80</td>\n",
              "      <td>66.0</td>\n",
              "      <td>86.0</td>\n",
              "      <td>78.0</td>\n",
              "      <td>80.0</td>\n",
              "      <td>57.0</td>\n",
              "      <td>50</td>\n",
              "      <td>54</td>\n",
              "      <td>57.0</td>\n",
              "      <td>77.0</td>\n",
              "      <td>40</td>\n",
              "      <td>78</td>\n",
              "      <td>49</td>\n",
              "      <td>52.0</td>\n",
              "      <td>82</td>\n",
              "      <td>45.0</td>\n",
              "      <td>27.0</td>\n",
              "      <td>61.0</td>\n",
              "      <td>55</td>\n",
              "      <td>41.0</td>\n",
              "      <td>33</td>\n",
              "      <td>58.0</td>\n",
              "      <td>84</td>\n",
              "      <td>...</td>\n",
              "      <td>60</td>\n",
              "      <td>69.0</td>\n",
              "      <td>24.0</td>\n",
              "      <td>29.0</td>\n",
              "      <td>40</td>\n",
              "      <td>57.0</td>\n",
              "      <td>67.0</td>\n",
              "      <td>74.0</td>\n",
              "      <td>50.0</td>\n",
              "      <td>49</td>\n",
              "      <td>137.0</td>\n",
              "      <td>48</td>\n",
              "      <td>46</td>\n",
              "      <td>82</td>\n",
              "      <td>75</td>\n",
              "      <td>41</td>\n",
              "      <td>54</td>\n",
              "      <td>45.0</td>\n",
              "      <td>82.0</td>\n",
              "      <td>56</td>\n",
              "      <td>57.0</td>\n",
              "      <td>78.0</td>\n",
              "      <td>72</td>\n",
              "      <td>47</td>\n",
              "      <td>51</td>\n",
              "      <td>49.0</td>\n",
              "      <td>52.0</td>\n",
              "      <td>51</td>\n",
              "      <td>60</td>\n",
              "      <td>62.0</td>\n",
              "      <td>40.0</td>\n",
              "      <td>33.0</td>\n",
              "      <td>52</td>\n",
              "      <td>51</td>\n",
              "      <td>40.0</td>\n",
              "      <td>43</td>\n",
              "      <td>35</td>\n",
              "      <td>29</td>\n",
              "      <td>36</td>\n",
              "      <td>52</td>\n",
              "    </tr>\n",
              "    <tr>\n",
              "      <th>35</th>\n",
              "      <td>Kelantan2</td>\n",
              "      <td>59</td>\n",
              "      <td>36</td>\n",
              "      <td>50</td>\n",
              "      <td>54</td>\n",
              "      <td>59.0</td>\n",
              "      <td>61.0</td>\n",
              "      <td>62.0</td>\n",
              "      <td>63</td>\n",
              "      <td>60</td>\n",
              "      <td>58</td>\n",
              "      <td>57.0</td>\n",
              "      <td>59</td>\n",
              "      <td>59.0</td>\n",
              "      <td>53</td>\n",
              "      <td>50.0</td>\n",
              "      <td>48.0</td>\n",
              "      <td>51</td>\n",
              "      <td>45.0</td>\n",
              "      <td>41.0</td>\n",
              "      <td>47.0</td>\n",
              "      <td>50.0</td>\n",
              "      <td>49.0</td>\n",
              "      <td>54</td>\n",
              "      <td>57</td>\n",
              "      <td>61.0</td>\n",
              "      <td>61.0</td>\n",
              "      <td>60</td>\n",
              "      <td>60</td>\n",
              "      <td>54</td>\n",
              "      <td>48.0</td>\n",
              "      <td>50</td>\n",
              "      <td>54.0</td>\n",
              "      <td>51.0</td>\n",
              "      <td>52.0</td>\n",
              "      <td>50</td>\n",
              "      <td>58.0</td>\n",
              "      <td>59</td>\n",
              "      <td>58.0</td>\n",
              "      <td>59</td>\n",
              "      <td>...</td>\n",
              "      <td>28</td>\n",
              "      <td>28.0</td>\n",
              "      <td>33.0</td>\n",
              "      <td>32.0</td>\n",
              "      <td>36</td>\n",
              "      <td>34.0</td>\n",
              "      <td>39.0</td>\n",
              "      <td>29.0</td>\n",
              "      <td>38.0</td>\n",
              "      <td>50</td>\n",
              "      <td>45.0</td>\n",
              "      <td>41</td>\n",
              "      <td>31</td>\n",
              "      <td>32</td>\n",
              "      <td>31</td>\n",
              "      <td>30</td>\n",
              "      <td>26</td>\n",
              "      <td>40.0</td>\n",
              "      <td>51.0</td>\n",
              "      <td>53</td>\n",
              "      <td>54.0</td>\n",
              "      <td>51.0</td>\n",
              "      <td>43</td>\n",
              "      <td>21</td>\n",
              "      <td>16</td>\n",
              "      <td>15.0</td>\n",
              "      <td>14.0</td>\n",
              "      <td>18</td>\n",
              "      <td>18</td>\n",
              "      <td>21.0</td>\n",
              "      <td>26.0</td>\n",
              "      <td>34.0</td>\n",
              "      <td>32</td>\n",
              "      <td>20</td>\n",
              "      <td>21.0</td>\n",
              "      <td>22</td>\n",
              "      <td>20</td>\n",
              "      <td>19</td>\n",
              "      <td>20</td>\n",
              "      <td>23</td>\n",
              "    </tr>\n",
              "    <tr>\n",
              "      <th>36</th>\n",
              "      <td>Banting , Selangor</td>\n",
              "      <td>60</td>\n",
              "      <td>44</td>\n",
              "      <td>55</td>\n",
              "      <td>52</td>\n",
              "      <td>35.0</td>\n",
              "      <td>47.0</td>\n",
              "      <td>68.0</td>\n",
              "      <td>68</td>\n",
              "      <td>57</td>\n",
              "      <td>64</td>\n",
              "      <td>59.0</td>\n",
              "      <td>53</td>\n",
              "      <td>42.0</td>\n",
              "      <td>80</td>\n",
              "      <td>51.0</td>\n",
              "      <td>53.0</td>\n",
              "      <td>57</td>\n",
              "      <td>56.0</td>\n",
              "      <td>52.0</td>\n",
              "      <td>46.0</td>\n",
              "      <td>51.0</td>\n",
              "      <td>57.0</td>\n",
              "      <td>38</td>\n",
              "      <td>36</td>\n",
              "      <td>54.0</td>\n",
              "      <td>72.0</td>\n",
              "      <td>61</td>\n",
              "      <td>58</td>\n",
              "      <td>91</td>\n",
              "      <td>81.0</td>\n",
              "      <td>52</td>\n",
              "      <td>72.0</td>\n",
              "      <td>41.0</td>\n",
              "      <td>43.0</td>\n",
              "      <td>46</td>\n",
              "      <td>50.0</td>\n",
              "      <td>63</td>\n",
              "      <td>70.0</td>\n",
              "      <td>52</td>\n",
              "      <td>...</td>\n",
              "      <td>52</td>\n",
              "      <td>55.0</td>\n",
              "      <td>64.0</td>\n",
              "      <td>53.0</td>\n",
              "      <td>43</td>\n",
              "      <td>95.0</td>\n",
              "      <td>104.0</td>\n",
              "      <td>69.0</td>\n",
              "      <td>48.0</td>\n",
              "      <td>40</td>\n",
              "      <td>61.0</td>\n",
              "      <td>55</td>\n",
              "      <td>43</td>\n",
              "      <td>66</td>\n",
              "      <td>69</td>\n",
              "      <td>64</td>\n",
              "      <td>45</td>\n",
              "      <td>80.0</td>\n",
              "      <td>111.0</td>\n",
              "      <td>54</td>\n",
              "      <td>99.0</td>\n",
              "      <td>90.0</td>\n",
              "      <td>61</td>\n",
              "      <td>62</td>\n",
              "      <td>76</td>\n",
              "      <td>38.0</td>\n",
              "      <td>62.0</td>\n",
              "      <td>50</td>\n",
              "      <td>53</td>\n",
              "      <td>50.0</td>\n",
              "      <td>54.0</td>\n",
              "      <td>37.0</td>\n",
              "      <td>61</td>\n",
              "      <td>52</td>\n",
              "      <td>34.0</td>\n",
              "      <td>43</td>\n",
              "      <td>61</td>\n",
              "      <td>32</td>\n",
              "      <td>39</td>\n",
              "      <td>67</td>\n",
              "    </tr>\n",
              "  </tbody>\n",
              "</table>\n",
              "<p>5 rows × 1098 columns</p>\n",
              "</div>"
            ],
            "text/plain": [
              "                           Name  STATE_FIPS   1   2  ...  1093  1094  1095  1096\n",
              "32  Port Dickson, Nege.Sembilan          56  56  79  ...    74    29    35    48\n",
              "33           Kota Tinggi, Johor          57  33  40  ...    31    32    40    47\n",
              "34                 Kuala Lumpur          58  47  66  ...    35    29    36    52\n",
              "35                    Kelantan2          59  36  50  ...    20    19    20    23\n",
              "36           Banting , Selangor          60  44  55  ...    61    32    39    67\n",
              "\n",
              "[5 rows x 1098 columns]"
            ]
          },
          "metadata": {
            "tags": []
          },
          "execution_count": 75
        }
      ]
    },
    {
      "cell_type": "markdown",
      "metadata": {
        "id": "YZ9MUAwK-LOj",
        "colab_type": "text"
      },
      "source": [
        "## Obtain the air pollution time series for 37 regions"
      ]
    },
    {
      "cell_type": "code",
      "metadata": {
        "id": "c-uY4stN-LOm",
        "colab_type": "code",
        "colab": {
          "base_uri": "https://localhost:8080/",
          "height": 35
        },
        "outputId": "1193eca3-266c-4aef-9378-c4d9244d917a"
      },
      "source": [
        "y = df[list(map(str, range(1,1097)))].values\n",
        "y.shape"
      ],
      "execution_count": null,
      "outputs": [
        {
          "output_type": "execute_result",
          "data": {
            "text/plain": [
              "(37, 1096)"
            ]
          },
          "metadata": {
            "tags": []
          },
          "execution_count": 84
        }
      ]
    },
    {
      "cell_type": "code",
      "metadata": {
        "id": "yThRM7fbpK6o",
        "colab_type": "code",
        "colab": {
          "base_uri": "https://localhost:8080/",
          "height": 141
        },
        "outputId": "8484ad2f-db38-4880-fc22-c0436d54dd44"
      },
      "source": [
        "y"
      ],
      "execution_count": null,
      "outputs": [
        {
          "output_type": "execute_result",
          "data": {
            "text/plain": [
              "array([[1, 1, 1, ..., 1, 1, 1],\n",
              "       [1, 2, 2, ..., 2, 2, 2],\n",
              "       [1, 1, 2, ..., 1, 2, 2],\n",
              "       ...,\n",
              "       [1, 2, 1, ..., 1, 1, 2],\n",
              "       [1, 1, 2, ..., 1, 1, 1],\n",
              "       [1, 2, 2, ..., 1, 1, 2]])"
            ]
          },
          "metadata": {
            "tags": []
          },
          "execution_count": 41
        }
      ]
    },
    {
      "cell_type": "code",
      "metadata": {
        "id": "kTbQ1MjYM4Pu",
        "colab_type": "code",
        "colab": {
          "base_uri": "https://localhost:8080/",
          "height": 88
        },
        "outputId": "86b6c442-36c5-4e7b-eaba-6c6e1de30a81"
      },
      "source": [
        "!apt install pysal"
      ],
      "execution_count": null,
      "outputs": [
        {
          "output_type": "stream",
          "text": [
            "Reading package lists... Done\n",
            "Building dependency tree       \n",
            "Reading state information... Done\n",
            "E: Unable to locate package pysal\n"
          ],
          "name": "stdout"
        }
      ]
    },
    {
      "cell_type": "code",
      "metadata": {
        "id": "SMNzBFhYOQ7a",
        "colab_type": "code",
        "colab": {}
      },
      "source": [
        "pip install pysal"
      ],
      "execution_count": null,
      "outputs": []
    },
    {
      "cell_type": "markdown",
      "metadata": {
        "id": "cnms2wMZgVpF",
        "colab_type": "text"
      },
      "source": [
        ""
      ]
    },
    {
      "cell_type": "code",
      "metadata": {
        "id": "TbZZ6MaOgWTz",
        "colab_type": "code",
        "colab": {}
      },
      "source": [
        "#Classic Markov\n",
        "import pysal\n",
        "import pandas as pd\n",
        "m = pysal.Markov(y)\n",
        "m.transitions"
      ],
      "execution_count": null,
      "outputs": []
    },
    {
      "cell_type": "code",
      "metadata": {
        "id": "KlWJy1MdOO-m",
        "colab_type": "code",
        "colab": {}
      },
      "source": [
        ""
      ],
      "execution_count": null,
      "outputs": []
    },
    {
      "cell_type": "code",
      "metadata": {
        "id": "c8BxdNt7gvTw",
        "colab_type": "code",
        "colab": {
          "base_uri": "https://localhost:8080/",
          "height": 106
        },
        "outputId": "acbadb1e-ae79-475c-8335-e60fc7a9a6c2"
      },
      "source": [
        "import giddy\n",
        "m = giddy.markov.Markov(y)"
      ],
      "execution_count": null,
      "outputs": [
        {
          "output_type": "stream",
          "text": [
            "The Markov Chain is irreducible and is composed by:\n",
            "1 Recurrent class (indices):\n",
            "[0 1 2 3 4]\n",
            "0 Transient classes.\n",
            "The Markov Chain has 0 absorbing states.\n"
          ],
          "name": "stdout"
        }
      ]
    },
    {
      "cell_type": "code",
      "metadata": {
        "id": "Bf53U6Wcg07M",
        "colab_type": "code",
        "colab": {
          "base_uri": "https://localhost:8080/",
          "height": 35
        },
        "outputId": "c60bad27-a74c-4ab3-9bf0-3bb2ca23b82c"
      },
      "source": [
        "print(m.classes)\n"
      ],
      "execution_count": null,
      "outputs": [
        {
          "output_type": "stream",
          "text": [
            "[1 2 3 4 5]\n"
          ],
          "name": "stdout"
        }
      ]
    },
    {
      "cell_type": "code",
      "metadata": {
        "id": "uOxWBqmCg3Wn",
        "colab_type": "code",
        "colab": {
          "base_uri": "https://localhost:8080/",
          "height": 35
        },
        "outputId": "402ca65f-fb36-4ce5-8ca6-4122fc948b27"
      },
      "source": [
        "print(len(m.classes))\n"
      ],
      "execution_count": null,
      "outputs": [
        {
          "output_type": "stream",
          "text": [
            "5\n"
          ],
          "name": "stdout"
        }
      ]
    },
    {
      "cell_type": "code",
      "metadata": {
        "id": "VWdgsPhRg5-Q",
        "colab_type": "code",
        "colab": {
          "base_uri": "https://localhost:8080/",
          "height": 106
        },
        "outputId": "4ada80b9-82c5-4ec3-a461-f8bc76579196"
      },
      "source": [
        "print(m.transitions)\n"
      ],
      "execution_count": null,
      "outputs": [
        {
          "output_type": "stream",
          "text": [
            "[[1.4723e+04 4.0470e+03 3.6000e+01 0.0000e+00 0.0000e+00]\n",
            " [4.0530e+03 1.6369e+04 4.5000e+02 1.0000e+00 0.0000e+00]\n",
            " [1.6000e+01 4.6800e+02 2.9000e+02 1.2000e+01 6.0000e+00]\n",
            " [0.0000e+00 1.0000e+00 1.0000e+01 6.0000e+00 5.0000e+00]\n",
            " [0.0000e+00 0.0000e+00 8.0000e+00 3.0000e+00 1.1000e+01]]\n"
          ],
          "name": "stdout"
        }
      ]
    },
    {
      "cell_type": "code",
      "metadata": {
        "id": "mTvwcZmidQxL",
        "colab_type": "code",
        "colab": {
          "base_uri": "https://localhost:8080/",
          "height": 106
        },
        "outputId": "d7f6a36e-6b8e-4888-bf3a-0e9fdaebf1ef"
      },
      "source": [
        "\n",
        "# import the important module in python \n",
        "import numpy as np \n",
        "           \n",
        "# make matrix with numpy \n",
        "gfg2 = m.transitions\n",
        "geeks2 = gfg2.round(6) \n",
        "     \n",
        "print(geeks2) "
      ],
      "execution_count": null,
      "outputs": [
        {
          "output_type": "stream",
          "text": [
            "[[1.4723e+04 4.0470e+03 3.6000e+01 0.0000e+00 0.0000e+00]\n",
            " [4.0530e+03 1.6369e+04 4.5000e+02 1.0000e+00 0.0000e+00]\n",
            " [1.6000e+01 4.6800e+02 2.9000e+02 1.2000e+01 6.0000e+00]\n",
            " [0.0000e+00 1.0000e+00 1.0000e+01 6.0000e+00 5.0000e+00]\n",
            " [0.0000e+00 0.0000e+00 8.0000e+00 3.0000e+00 1.1000e+01]]\n"
          ],
          "name": "stdout"
        }
      ]
    },
    {
      "cell_type": "code",
      "metadata": {
        "id": "Nuv6Vt9Acwt4",
        "colab_type": "code",
        "colab": {
          "base_uri": "https://localhost:8080/",
          "height": 106
        },
        "outputId": "111ed2db-c284-409d-a941-0eb60ff234d0"
      },
      "source": [
        "\n",
        "# import the important module in python \n",
        "import numpy as np \n",
        "           \n",
        "# make matrix with numpy \n",
        "gfg = m.p\n",
        "geeks = gfg.round(4) \n",
        "     \n",
        "print(geeks) "
      ],
      "execution_count": null,
      "outputs": [
        {
          "output_type": "stream",
          "text": [
            "[[0.7829 0.2152 0.0019 0.     0.    ]\n",
            " [0.1942 0.7842 0.0216 0.     0.    ]\n",
            " [0.0202 0.5909 0.3662 0.0152 0.0076]\n",
            " [0.     0.0455 0.4545 0.2727 0.2273]\n",
            " [0.     0.     0.3636 0.1364 0.5   ]]\n"
          ],
          "name": "stdout"
        }
      ]
    },
    {
      "cell_type": "code",
      "metadata": {
        "id": "5U0dTLeniYSg",
        "colab_type": "code",
        "colab": {
          "base_uri": "https://localhost:8080/",
          "height": 407
        },
        "outputId": "ea5d36ff-ab56-49a6-9a4b-665e96886456"
      },
      "source": [
        "from esda.moran import Moran\n",
        "import matplotlib.pyplot as plt\n",
        "#we use seaborn to create a heatmap (`pip install seaborn` to install seaborn if you do not have it)\n",
        "import seaborn as sns\n",
        "sns.set()\n",
        "\n",
        "fig, ax = plt.subplots(figsize = (6,5))\n",
        "im = sns.heatmap(m.p, annot=True, linewidths=.5, ax=ax, cbar=True, vmin=0, vmax=1,\n",
        "                          square=True,  cmap=\"YlGn\",fmt='.3f')\n",
        "ax.set_title(\"Global\",fontsize=13) \n"
      ],
      "execution_count": null,
      "outputs": [
        {
          "output_type": "stream",
          "text": [
            "/usr/local/lib/python3.6/dist-packages/statsmodels/tools/_testing.py:19: FutureWarning: pandas.util.testing is deprecated. Use the functions in the public API at pandas.testing instead.\n",
            "  import pandas.util.testing as tm\n"
          ],
          "name": "stderr"
        },
        {
          "output_type": "execute_result",
          "data": {
            "text/plain": [
              "Text(0.5, 1.0, 'Global')"
            ]
          },
          "metadata": {
            "tags": []
          },
          "execution_count": 60
        },
        {
          "output_type": "display_data",
          "data": {
            "image/png": "[encoded data removed]",
            "text/plain": [
              "<Figure size 432x360 with 2 Axes>"
            ]
          },
          "metadata": {
            "tags": []
          }
        }
      ]
    },
    {
      "cell_type": "code",
      "metadata": {
        "id": "33VfGCP7g_kl",
        "colab_type": "code",
        "colab": {
          "base_uri": "https://localhost:8080/",
          "height": 35
        },
        "outputId": "9a38412a-5e6f-4b2a-f98d-e4aa1dd3c805"
      },
      "source": [
        "m.steady_state  # steady state distribution\n"
      ],
      "execution_count": null,
      "outputs": [
        {
          "output_type": "execute_result",
          "data": {
            "text/plain": [
              "array([0.46328641, 0.51596837, 0.01965356, 0.00054579, 0.00054587])"
            ]
          },
          "metadata": {
            "tags": []
          },
          "execution_count": 61
        }
      ]
    },
    {
      "cell_type": "code",
      "metadata": {
        "id": "o1HrTn_b1yH6",
        "colab_type": "code",
        "colab": {
          "base_uri": "https://localhost:8080/",
          "height": 195
        },
        "outputId": "81de0770-1c58-4816-ffc4-8e0b5ec43b8c"
      },
      "source": [
        "print(giddy.ergodic.fmpt(m.p))\n"
      ],
      "execution_count": null,
      "outputs": [
        {
          "output_type": "stream",
          "text": [
            "[[2.15849198e+00 4.62243217e+00 8.51421924e+01 2.82618992e+03\n",
            "  4.08378456e+03]\n",
            " [5.32231739e+00 1.93810329e+00 8.12526739e+01 2.82225051e+03\n",
            "  4.07987236e+03]\n",
            " [6.86615670e+00 1.87195975e+00 5.08813654e+01 2.74665675e+03\n",
            "  4.00119155e+03]\n",
            " [8.94701240e+00 3.93039728e+00 7.73776033e+00 1.83221185e+03\n",
            "  2.75711174e+03]\n",
            " [9.43366280e+00 4.43335180e+00 4.11029827e+00 1.99956854e+03\n",
            "  1.83194853e+03]]\n"
          ],
          "name": "stdout"
        }
      ]
    },
    {
      "cell_type": "markdown",
      "metadata": {
        "id": "4Y9HshWY-LO_",
        "colab_type": "text"
      },
      "source": [
        "#### The following code is to transform the spatial weight file to use the indices of regions (starting with 0 and ending with 36) instead of  STATE_FIPS.\n",
        "\n",
        "Store the resulted spatial weights data into 37_weight.gal"
      ]
    },
    {
      "cell_type": "code",
      "metadata": {
        "id": "YnHIYpn9-LQS",
        "colab_type": "code",
        "colab": {}
      },
      "source": [
        "\n",
        "#dict_fips_index = dict(zip(map(str,df[\"STATE_FIPS\"].values), range(len(df))))\n",
        "\n",
        "# import csv\n",
        "# f_fips = open(\"37with_-ID_order_test.txt\", \"r\")\n",
        "# i = 0\n",
        "# with open('37_weight.gal', 'w', newline='') as f_index:\n",
        "#     writer = csv.writer(f_index, delimiter=\" \")\n",
        "#     writer.writerow([37])\n",
        "#     for line in f_fips:\n",
        "#         line = line.strip(\"\\t\")\n",
        "#         line_index = []\n",
        "#         if i%2:\n",
        "#             for fip in line.split():\n",
        "#                 line_index.append(dict_fips_index[fip])\n",
        "#         else:\n",
        "#             id_num = line.split()\n",
        "#             line_index.append(dict_fips_index[id_num[0]])\n",
        "#             line_index.append(id_num[1])\n",
        "            \n",
        "#         i = i + 1\n",
        "#         writer.writerow(line_index)\n",
        "# f_fips.close()\n",
        "# f_index.close()"
      ],
      "execution_count": null,
      "outputs": []
    },
    {
      "cell_type": "code",
      "metadata": {
        "id": "528-5c0E-LRE",
        "colab_type": "code",
        "colab": {
          "resources": {
            "http://localhost:8080/nbextensions/google.colab/files.js": {
              "data": "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",
              "ok": true,
              "headers": [
                [
                  "content-type",
                  "application/javascript"
                ]
              ],
              "status": 200,
              "status_text": ""
            }
          },
          "base_uri": "https://localhost:8080/",
          "height": 75
        },
        "outputId": "ae5a7fba-3820-4289-886e-a9be1a6a0de2"
      },
      "source": [
        "from google.colab import files\n",
        "\n",
        "uploaded = files.upload()"
      ],
      "execution_count": null,
      "outputs": [
        {
          "output_type": "display_data",
          "data": {
            "text/html": [
              "\n",
              "     <input type=\"file\" id=\"files-713e0d0c-bd8c-4fa4-bd08-25b5e6305f93\" name=\"files[]\" multiple disabled />\n",
              "     <output id=\"result-713e0d0c-bd8c-4fa4-bd08-25b5e6305f93\">\n",
              "      Upload widget is only available when the cell has been executed in the\n",
              "      current browser session. Please rerun this cell to enable.\n",
              "      </output>\n",
              "      <script src=\"/nbextensions/google.colab/files.js\"></script> "
            ],
            "text/plain": [
              "<IPython.core.display.HTML object>"
            ]
          },
          "metadata": {
            "tags": []
          }
        },
        {
          "output_type": "stream",
          "text": [
            "Saving 37_weight.gal to 37_weight.gal\n"
          ],
          "name": "stdout"
        }
      ]
    },
    {
      "cell_type": "code",
      "metadata": {
        "id": "w1IkTSbI-LRd",
        "colab_type": "code",
        "colab": {
          "base_uri": "https://localhost:8080/",
          "height": 675
        },
        "outputId": "df8062a8-5e2f-40a8-8967-3f8d06089202"
      },
      "source": [
        "w = ps.io.open(\"37_weight.gal\").read()\n",
        "w.transform = 'r'\n",
        "w.neighbors"
      ],
      "execution_count": null,
      "outputs": [
        {
          "output_type": "execute_result",
          "data": {
            "text/plain": [
              "{'0': ['13', '33'],\n",
              " '1': ['4', '10', '16'],\n",
              " '10': ['9', '4', '1'],\n",
              " '11': ['34', '31', '30', '17'],\n",
              " '12': ['35', '22', '21', '14', '6', '2'],\n",
              " '13': ['33', '25', '9', '0'],\n",
              " '14': ['35', '27', '23', '21', '12', '6', '5', '2'],\n",
              " '15': ['35', '22', '20'],\n",
              " '16': ['20', '4', '1'],\n",
              " '17': ['8', '11', '29', '30', '34'],\n",
              " '18': ['19', '21', '22'],\n",
              " '19': ['18', '22'],\n",
              " '2': ['6', '12', '14', '21'],\n",
              " '20': ['4', '15', '16', '35'],\n",
              " '21': ['2', '12', '14', '18', '22', '23'],\n",
              " '22': ['12', '15', '18', '19', '21', '35'],\n",
              " '23': ['14', '21', '26', '27', '29'],\n",
              " '24': ['3', '25', '28'],\n",
              " '25': ['9', '13', '24', '28'],\n",
              " '26': ['4', '5', '23', '27', '29', '34'],\n",
              " '27': ['5', '14', '23', '26'],\n",
              " '28': ['3', '4', '7', '9', '24', '25', '31', '32'],\n",
              " '29': ['8', '17', '23', '26', '34'],\n",
              " '3': ['24', '28', '32'],\n",
              " '30': ['7', '8', '11', '17', '31', '36'],\n",
              " '31': ['4', '7', '11', '28', '30', '34'],\n",
              " '32': ['3', '7', '8', '28', '36'],\n",
              " '33': ['0', '9', '13'],\n",
              " '34': ['4', '11', '17', '26', '29', '31'],\n",
              " '35': ['4', '5', '12', '14', '15', '20', '22'],\n",
              " '36': ['7', '8', '30', '32'],\n",
              " '4': ['1', '5', '9', '10', '16', '20', '26', '28', '31', '34', '35'],\n",
              " '5': ['4', '14', '26', '27', '35'],\n",
              " '6': ['14', '12', '2'],\n",
              " '7': ['36', '32', '31', '30', '28'],\n",
              " '8': ['36', '32', '30', '29', '17'],\n",
              " '9': ['33', '28', '25', '13', '10', '4']}"
            ]
          },
          "metadata": {
            "tags": []
          },
          "execution_count": 64
        }
      ]
    },
    {
      "cell_type": "code",
      "metadata": {
        "id": "D8yDqYGePLjE",
        "colab_type": "code",
        "colab": {
          "base_uri": "https://localhost:8080/",
          "height": 464
        },
        "outputId": "131d4fdd-651d-4f0a-b11c-7d1a5edbae5e"
      },
      "source": [
        "pip install geopandas"
      ],
      "execution_count": null,
      "outputs": [
        {
          "output_type": "stream",
          "text": [
            "Collecting geopandas\n",
            "  Using cached https://files.pythonhosted.org/packages/83/c5/3cf9cdc39a6f2552922f79915f36b45a95b71fd343cfc51170a5b6ddb6e8/geopandas-0.7.0-py2.py3-none-any.whl\n",
            "Requirement already satisfied: pandas>=0.23.0 in /usr/local/lib/python3.6/dist-packages (from geopandas) (1.0.4)\n",
            "Collecting pyproj>=2.2.0\n",
            "\u001b[?25l  Downloading https://files.pythonhosted.org/packages/e5/c3/071e080230ac4b6c64f1a2e2f9161c9737a2bc7b683d2c90b024825000c0/pyproj-2.6.1.post1-cp36-cp36m-manylinux2010_x86_64.whl (10.9MB)\n",
            "\u001b[K     |████████████████████████████████| 10.9MB 4.1MB/s \n",
            "\u001b[?25hCollecting fiona\n",
            "\u001b[?25l  Downloading https://files.pythonhosted.org/packages/ec/20/4e63bc5c6e62df889297b382c3ccd4a7a488b00946aaaf81a118158c6f09/Fiona-1.8.13.post1-cp36-cp36m-manylinux1_x86_64.whl (14.7MB)\n",
            "\u001b[K     |████████████████████████████████| 14.7MB 308kB/s \n",
            "\u001b[?25hRequirement already satisfied: shapely in /usr/local/lib/python3.6/dist-packages (from geopandas) (1.7.0)\n",
            "Requirement already satisfied: python-dateutil>=2.6.1 in /usr/local/lib/python3.6/dist-packages (from pandas>=0.23.0->geopandas) (2.8.1)\n",
            "Requirement already satisfied: numpy>=1.13.3 in /usr/local/lib/python3.6/dist-packages (from pandas>=0.23.0->geopandas) (1.18.5)\n",
            "Requirement already satisfied: pytz>=2017.2 in /usr/local/lib/python3.6/dist-packages (from pandas>=0.23.0->geopandas) (2018.9)\n",
            "Requirement already satisfied: click<8,>=4.0 in /usr/local/lib/python3.6/dist-packages (from fiona->geopandas) (7.1.2)\n",
            "Requirement already satisfied: six>=1.7 in /usr/local/lib/python3.6/dist-packages (from fiona->geopandas) (1.12.0)\n",
            "Collecting click-plugins>=1.0\n",
            "  Downloading https://files.pythonhosted.org/packages/e9/da/824b92d9942f4e472702488857914bdd50f73021efea15b4cad9aca8ecef/click_plugins-1.1.1-py2.py3-none-any.whl\n",
            "Collecting cligj>=0.5\n",
            "  Downloading https://files.pythonhosted.org/packages/e4/be/30a58b4b0733850280d01f8bd132591b4668ed5c7046761098d665ac2174/cligj-0.5.0-py3-none-any.whl\n",
            "Collecting munch\n",
            "  Downloading https://files.pythonhosted.org/packages/cc/ab/85d8da5c9a45e072301beb37ad7f833cd344e04c817d97e0cc75681d248f/munch-2.5.0-py2.py3-none-any.whl\n",
            "Requirement already satisfied: attrs>=17 in /usr/local/lib/python3.6/dist-packages (from fiona->geopandas) (19.3.0)\n",
            "Installing collected packages: pyproj, click-plugins, cligj, munch, fiona, geopandas\n",
            "Successfully installed click-plugins-1.1.1 cligj-0.5.0 fiona-1.8.13.post1 geopandas-0.7.0 munch-2.5.0 pyproj-2.6.1.post1\n"
          ],
          "name": "stdout"
        }
      ]
    },
    {
      "cell_type": "code",
      "metadata": {
        "id": "ep5N505TPRBj",
        "colab_type": "code",
        "colab": {
          "base_uri": "https://localhost:8080/",
          "height": 141
        },
        "outputId": "6efbb0d7-7c70-415c-d5b1-805c0c21b04b"
      },
      "source": [
        "pip install matplotlib"
      ],
      "execution_count": null,
      "outputs": [
        {
          "output_type": "stream",
          "text": [
            "Requirement already satisfied: matplotlib in /usr/local/lib/python3.6/dist-packages (3.2.1)\n",
            "Requirement already satisfied: cycler>=0.10 in /usr/local/lib/python3.6/dist-packages (from matplotlib) (0.10.0)\n",
            "Requirement already satisfied: pyparsing!=2.0.4,!=2.1.2,!=2.1.6,>=2.0.1 in /usr/local/lib/python3.6/dist-packages (from matplotlib) (2.4.7)\n",
            "Requirement already satisfied: kiwisolver>=1.0.1 in /usr/local/lib/python3.6/dist-packages (from matplotlib) (1.2.0)\n",
            "Requirement already satisfied: python-dateutil>=2.1 in /usr/local/lib/python3.6/dist-packages (from matplotlib) (2.8.1)\n",
            "Requirement already satisfied: numpy>=1.11 in /usr/local/lib/python3.6/dist-packages (from matplotlib) (1.18.5)\n",
            "Requirement already satisfied: six in /usr/local/lib/python3.6/dist-packages (from cycler>=0.10->matplotlib) (1.12.0)\n"
          ],
          "name": "stdout"
        }
      ]
    },
    {
      "cell_type": "code",
      "metadata": {
        "id": "6aPZCpNTObdT",
        "colab_type": "code",
        "colab": {}
      },
      "source": [
        "from libpysal.weights.contiguity import Queen\n",
        "import libpysal\n",
        "from libpysal import examples\n",
        "import matplotlib.pyplot as plt\n",
        "import geopandas as gpd\n",
        "%matplotlib inline\n"
      ],
      "execution_count": null,
      "outputs": []
    },
    {
      "cell_type": "markdown",
      "metadata": {
        "id": "sRW0s_xQ-LSQ",
        "colab_type": "text"
      },
      "source": [
        "## Spatial Markov analysis"
      ]
    },
    {
      "cell_type": "markdown",
      "metadata": {
        "id": "TCWWEH4_-LSo",
        "colab_type": "text"
      },
      "source": [
        "#### set the discretization cutoffs for air pollution data as well as the spatial lags"
      ]
    },
    {
      "cell_type": "code",
      "metadata": {
        "id": "wpuSNn_7-LSx",
        "colab_type": "code",
        "colab": {
          "base_uri": "https://localhost:8080/",
          "height": 35
        },
        "outputId": "363958d2-9369-470d-d92b-fa2c8aded172"
      },
      "source": [
        "cc = np.array([50,100,200,300])\n",
        "cc"
      ],
      "execution_count": null,
      "outputs": [
        {
          "output_type": "execute_result",
          "data": {
            "text/plain": [
              "array([ 50, 100, 200, 300])"
            ]
          },
          "metadata": {
            "tags": []
          },
          "execution_count": 68
        }
      ]
    },
    {
      "cell_type": "code",
      "metadata": {
        "id": "XGVRyv3w-LTo",
        "colab_type": "code",
        "colab": {
          "base_uri": "https://localhost:8080/",
          "height": 35
        },
        "outputId": "6a0927e4-7143-449e-d35c-c98c3e17113c"
      },
      "source": [
        "##     giddy.markov.Spatial_Markov(self, y, w, k=4, permutations=0, fixed=False, variable_name=None)\n",
        "\n",
        "sm = Spatial_Markov(y, w, cutoffs=cc, lag_cutoffs=cc, variable_name='Air Pollution')\n",
        "sm"
      ],
      "execution_count": null,
      "outputs": [
        {
          "output_type": "execute_result",
          "data": {
            "text/plain": [
              "<giddy.markov.Spatial_Markov at 0x7f6740b88da0>"
            ]
          },
          "metadata": {
            "tags": []
          },
          "execution_count": 93
        }
      ]
    },
    {
      "cell_type": "code",
      "metadata": {
        "id": "M1XVAyGk-LUC",
        "colab_type": "code",
        "colab": {
          "base_uri": "https://localhost:8080/",
          "height": 35
        },
        "outputId": "fe390e5a-8d82-4f98-c6e1-8413bd9b9c1f"
      },
      "source": [
        "sm.cutoffs"
      ],
      "execution_count": null,
      "outputs": [
        {
          "output_type": "execute_result",
          "data": {
            "text/plain": [
              "array([ 50., 100., 200., 300.])"
            ]
          },
          "metadata": {
            "tags": []
          },
          "execution_count": 95
        }
      ]
    },
    {
      "cell_type": "code",
      "metadata": {
        "id": "faokfXRn-LUX",
        "colab_type": "code",
        "colab": {
          "base_uri": "https://localhost:8080/",
          "height": 35
        },
        "outputId": "6fefe511-b191-445e-fefd-01951f92da28"
      },
      "source": [
        "sm.lag_cutoffs"
      ],
      "execution_count": null,
      "outputs": [
        {
          "output_type": "execute_result",
          "data": {
            "text/plain": [
              "array([ 50., 100., 200., 300.])"
            ]
          },
          "metadata": {
            "tags": []
          },
          "execution_count": 94
        }
      ]
    },
    {
      "cell_type": "code",
      "metadata": {
        "id": "HExHzeIZUxD9",
        "colab_type": "code",
        "colab": {}
      },
      "source": [
        "#  classsic Markov chain\n",
        "##     giddy.markov.Markov(self, class_ids, classes=cc)\n",
        "\n",
        "import giddy\n",
        "m=giddy.markov.Markov(y)\n",
        "m"
      ],
      "execution_count": null,
      "outputs": []
    },
    {
      "cell_type": "code",
      "metadata": {
        "id": "O7Jk1uk7kZK7",
        "colab_type": "code",
        "colab": {
          "base_uri": "https://localhost:8080/",
          "height": 141
        },
        "outputId": "42929370-9da2-4b6f-dc49-71e1315690f2"
      },
      "source": [
        "y"
      ],
      "execution_count": null,
      "outputs": [
        {
          "output_type": "execute_result",
          "data": {
            "text/plain": [
              "array([[50., 40., 44., ..., 30., 32., 41.],\n",
              "       [43., 51., 55., ..., 53., 51., 51.],\n",
              "       [37., 47., 63., ..., 27., 52., 57.],\n",
              "       ...,\n",
              "       [47., 66., 37., ..., 29., 36., 52.],\n",
              "       [36., 50., 54., ..., 19., 20., 23.],\n",
              "       [44., 55., 52., ..., 32., 39., 67.]])"
            ]
          },
          "metadata": {
            "tags": []
          },
          "execution_count": 92
        }
      ]
    },
    {
      "cell_type": "code",
      "metadata": {
        "id": "ZjUCZZlRAMIq",
        "colab_type": "code",
        "colab": {
          "base_uri": "https://localhost:8080/",
          "height": 34
        },
        "outputId": "c6053bb8-17a2-464a-c949-3bd1abffa025"
      },
      "source": [
        "cc"
      ],
      "execution_count": null,
      "outputs": [
        {
          "output_type": "execute_result",
          "data": {
            "text/plain": [
              "array([ 50, 100, 200, 300])"
            ]
          },
          "metadata": {
            "tags": []
          },
          "execution_count": 20
        }
      ]
    },
    {
      "cell_type": "code",
      "metadata": {
        "id": "ITw8an5Dp8H8",
        "colab_type": "code",
        "colab": {
          "base_uri": "https://localhost:8080/",
          "height": 106
        },
        "outputId": "9d8ae74a-983f-4768-e662-0124b2649eec"
      },
      "source": [
        "sm.transitions"
      ],
      "execution_count": null,
      "outputs": [
        {
          "output_type": "execute_result",
          "data": {
            "text/plain": [
              "array([[1.4723e+04, 4.0470e+03, 3.6000e+01, 0.0000e+00, 0.0000e+00],\n",
              "       [4.0530e+03, 1.6369e+04, 4.5000e+02, 1.0000e+00, 0.0000e+00],\n",
              "       [1.6000e+01, 4.6800e+02, 2.9000e+02, 1.2000e+01, 6.0000e+00],\n",
              "       [0.0000e+00, 1.0000e+00, 1.0000e+01, 6.0000e+00, 5.0000e+00],\n",
              "       [0.0000e+00, 0.0000e+00, 8.0000e+00, 3.0000e+00, 1.1000e+01]])"
            ]
          },
          "metadata": {
            "tags": []
          },
          "execution_count": 96
        }
      ]
    },
    {
      "cell_type": "code",
      "metadata": {
        "id": "zTPlKddqdXhG",
        "colab_type": "code",
        "colab": {
          "base_uri": "https://localhost:8080/",
          "height": 195
        },
        "outputId": "db456f7f-9cc0-45eb-898a-85fb66758b63"
      },
      "source": [
        "sm.p"
      ],
      "execution_count": null,
      "outputs": [
        {
          "output_type": "execute_result",
          "data": {
            "text/plain": [
              "array([[7.82888440e-01, 2.15197277e-01, 1.91428268e-03, 0.00000000e+00,\n",
              "        0.00000000e+00],\n",
              "       [1.94174292e-01, 7.84218847e-01, 2.15589518e-02, 4.79087817e-05,\n",
              "        0.00000000e+00],\n",
              "       [2.02020202e-02, 5.90909091e-01, 3.66161616e-01, 1.51515152e-02,\n",
              "        7.57575758e-03],\n",
              "       [0.00000000e+00, 4.54545455e-02, 4.54545455e-01, 2.72727273e-01,\n",
              "        2.27272727e-01],\n",
              "       [0.00000000e+00, 0.00000000e+00, 3.63636364e-01, 1.36363636e-01,\n",
              "        5.00000000e-01]])"
            ]
          },
          "metadata": {
            "tags": []
          },
          "execution_count": 97
        }
      ]
    },
    {
      "cell_type": "code",
      "metadata": {
        "id": "9U94jxrhj5Q-",
        "colab_type": "code",
        "colab": {
          "base_uri": "https://localhost:8080/",
          "height": 141
        },
        "outputId": "15069974-b287-4f3a-f8d6-023c5804dfe5"
      },
      "source": [
        "m.transitions"
      ],
      "execution_count": null,
      "outputs": [
        {
          "output_type": "execute_result",
          "data": {
            "text/plain": [
              "array([[1., 0., 0., ..., 0., 0., 0.],\n",
              "       [0., 0., 0., ..., 0., 0., 0.],\n",
              "       [0., 0., 0., ..., 0., 0., 0.],\n",
              "       ...,\n",
              "       [0., 0., 0., ..., 0., 1., 0.],\n",
              "       [0., 0., 0., ..., 0., 0., 0.],\n",
              "       [0., 0., 0., ..., 0., 0., 0.]])"
            ]
          },
          "metadata": {
            "tags": []
          },
          "execution_count": 98
        }
      ]
    },
    {
      "cell_type": "code",
      "metadata": {
        "id": "WYrBc3Cw-LVF",
        "colab_type": "code",
        "colab": {
          "base_uri": "https://localhost:8080/",
          "height": 995
        },
        "outputId": "3fa84d56-e27d-468b-8078-c770bcdd7167"
      },
      "source": [
        "sm.summary()"
      ],
      "execution_count": null,
      "outputs": [
        {
          "output_type": "stream",
          "text": [
            "--------------------------------------------------------------\n",
            "              Spatial Markov Test: Air Pollution              \n",
            "--------------------------------------------------------------\n",
            "Number of classes: 5\n",
            "Number of transitions: 40515\n",
            "Number of regimes: 5\n",
            "Regime names: LAG0, LAG1, LAG2, LAG3, LAG4\n",
            "--------------------------------------------------------------\n",
            "   Test                   LR                Chi-2\n",
            "  Stat.              969.316             1355.926\n",
            "    DOF                   36                   36\n",
            "p-value                0.000                0.000\n",
            "--------------------------------------------------------------\n",
            "P(H0)           C0         C1         C2         C3         C4\n",
            "     C0      0.783      0.215      0.002      0.000      0.000\n",
            "     C1      0.194      0.784      0.022      0.000      0.000\n",
            "     C2      0.020      0.591      0.366      0.015      0.008\n",
            "     C3      0.000      0.045      0.455      0.273      0.227\n",
            "     C4      0.000      0.000      0.364      0.136      0.500\n",
            "--------------------------------------------------------------\n",
            "P(LAG0)         C0         C1         C2         C3         C4\n",
            "     C0      0.814      0.184      0.002      0.000      0.000\n",
            "     C1      0.279      0.712      0.009      0.000      0.000\n",
            "     C2      0.107      0.786      0.107      0.000      0.000\n",
            "     C3      0.000      0.000      0.000      0.000      0.000\n",
            "     C4      0.000      0.000      0.000      0.000      0.000\n",
            "--------------------------------------------------------------\n",
            "P(LAG1)         C0         C1         C2         C3         C4\n",
            "     C0      0.708      0.289      0.003      0.000      0.000\n",
            "     C1      0.160      0.815      0.025      0.000      0.000\n",
            "     C2      0.023      0.715      0.260      0.002      0.000\n",
            "     C3      0.000      0.000      0.000      0.000      0.000\n",
            "     C4      0.000      0.000      0.000      0.000      0.000\n",
            "--------------------------------------------------------------\n",
            "P(LAG2)         C0         C1         C2         C3         C4\n",
            "     C0      0.667      0.333      0.000      0.000      0.000\n",
            "     C1      0.028      0.701      0.262      0.009      0.000\n",
            "     C2      0.004      0.338      0.589      0.043      0.026\n",
            "     C3      0.000      0.100      0.500      0.100      0.300\n",
            "     C4      0.000      0.000      0.200      0.200      0.600\n",
            "--------------------------------------------------------------\n",
            "P(LAG3)         C0         C1         C2         C3         C4\n",
            "     C0      0.000      0.000      0.000      0.000      0.000\n",
            "     C1      0.000      0.000      0.000      0.000      0.000\n",
            "     C2      0.000      0.000      0.941      0.059      0.000\n",
            "     C3      0.000      0.000      0.400      0.400      0.200\n",
            "     C4      0.000      0.000      0.400      0.133      0.467\n",
            "--------------------------------------------------------------\n",
            "P(LAG4)         C0         C1         C2         C3         C4\n",
            "     C0      0.000      0.000      0.000      0.000      0.000\n",
            "     C1      0.000      0.000      0.000      0.000      0.000\n",
            "     C2      0.000      0.000      1.000      0.000      0.000\n",
            "     C3      0.000      0.000      0.500      0.500      0.000\n",
            "     C4      0.000      0.000      0.500      0.000      0.500\n",
            "--------------------------------------------------------------\n"
          ],
          "name": "stdout"
        }
      ]
    },
    {
      "cell_type": "code",
      "metadata": {
        "id": "auz9qtyWmE7M",
        "colab_type": "code",
        "colab": {
          "base_uri": "https://localhost:8080/",
          "height": 501
        },
        "outputId": "5beb3240-705f-49be-d16f-56ac98c9a410"
      },
      "source": [
        "fig, axes = plt.subplots(2,3,figsize = (15,8)) \n",
        "\n",
        "for i in range(2):\n",
        "    for j in range(3):\n",
        "        ax = axes[i,j]\n",
        "        if i==1 and j==2:\n",
        "            ax.axis('off')\n",
        "            continue\n",
        "        p_temp = sm.P[i*3+j]\n",
        "        im = sns.heatmap(p_temp, annot=True, linewidths=.5, ax=ax, cbar=True, vmin=0, vmax=1,\n",
        "                          square=True, cmap=\"YlGn\",fmt='.3f')\n",
        "        ax.set_title(\"Spatial Lag %d\"%(i*3+j),fontsize=13) "
      ],
      "execution_count": null,
      "outputs": [
        {
          "output_type": "display_data",
          "data": {
            "image/png": "[encoded data removed]",
            "text/plain": [
              "<Figure size 1080x576 with 11 Axes>"
            ]
          },
          "metadata": {
            "tags": []
          }
        }
      ]
    },
    {
      "cell_type": "code",
      "metadata": {
        "id": "UFVPw-AinnZ7",
        "colab_type": "code",
        "colab": {
          "base_uri": "https://localhost:8080/",
          "height": 586
        },
        "outputId": "1fe85555-6062-4fce-89aa-cf00ef2905c2"
      },
      "source": [
        "fig, axes = plt.subplots(2,3,figsize = (17,10)) \n",
        "\n",
        "for i in range(2):\n",
        "    for j in range(3):\n",
        "        ax = axes[i,j]\n",
        "        if i==0 and j==0:\n",
        "            im = sns.heatmap(sm.p, annot=True, linewidths=.5, ax=ax, cbar=True, vmin=0, vmax=1,\n",
        "                          square=True, cmap=\"YlGn\",fmt='.3f')\n",
        "            ax.set_title(\"Global\",fontsize=13) \n",
        "        else:\n",
        "            p_temp = sm.P[i*3+j-1]\n",
        "            im = sns.heatmap(p_temp, annot=True, linewidths=.5, ax=ax, cbar=True, vmin=0, vmax=1,\n",
        "                          square=True, cmap=\"YlGn\",fmt='.3f')\n",
        "            ax.set_title(\"Spatial Lag %d\"%(i*3+j),fontsize=13) "
      ],
      "execution_count": null,
      "outputs": [
        {
          "output_type": "display_data",
          "data": {
            "image/png": "[encoded data removed]",
            "text/plain": [
              "<Figure size 1224x720 with 12 Axes>"
            ]
          },
          "metadata": {
            "tags": []
          }
        }
      ]
    },
    {
      "cell_type": "code",
      "metadata": {
        "id": "IPJMwSH6qNPr",
        "colab_type": "code",
        "colab": {
          "base_uri": "https://localhost:8080/",
          "height": 995
        },
        "outputId": "1f15fc09-05ae-4d26-ae33-2c325bf6a3ee"
      },
      "source": [
        "giddy.markov.Homogeneity_Results(sm.T).summary()\n",
        "#giddy.markov.homogeneity(transition_matrices, regime_names=[], class_names=[], title='Markov Homogeneity Test')"
      ],
      "execution_count": null,
      "outputs": [
        {
          "output_type": "stream",
          "text": [
            "--------------------------------------------------\n",
            "             Markov Homogeneity Test              \n",
            "--------------------------------------------------\n",
            "Number of classes: 5\n",
            "Number of transitions: 40515\n",
            "Number of regimes: 5\n",
            "Regime names: 0, 1, 2, 3, 4\n",
            "--------------------------------------------------\n",
            "   Test                   LR                Chi-2\n",
            "  Stat.              969.316             1355.926\n",
            "    DOF                   36                   36\n",
            "p-value                0.000                0.000\n",
            "--------------------------------------------------\n",
            "P(H0)        0        1        2        3        4\n",
            "    0    0.783    0.215    0.002    0.000    0.000\n",
            "    1    0.194    0.784    0.022    0.000    0.000\n",
            "    2    0.020    0.591    0.366    0.015    0.008\n",
            "    3    0.000    0.045    0.455    0.273    0.227\n",
            "    4    0.000    0.000    0.364    0.136    0.500\n",
            "--------------------------------------------------\n",
            "P(0)         0        1        2        3        4\n",
            "    0    0.814    0.184    0.002    0.000    0.000\n",
            "    1    0.279    0.712    0.009    0.000    0.000\n",
            "    2    0.107    0.786    0.107    0.000    0.000\n",
            "    3    0.000    0.000    0.000    0.000    0.000\n",
            "    4    0.000    0.000    0.000    0.000    0.000\n",
            "--------------------------------------------------\n",
            "P(1)         0        1        2        3        4\n",
            "    0    0.708    0.289    0.003    0.000    0.000\n",
            "    1    0.160    0.815    0.025    0.000    0.000\n",
            "    2    0.023    0.715    0.260    0.002    0.000\n",
            "    3    0.000    0.000    0.000    0.000    0.000\n",
            "    4    0.000    0.000    0.000    0.000    0.000\n",
            "--------------------------------------------------\n",
            "P(2)         0        1        2        3        4\n",
            "    0    0.667    0.333    0.000    0.000    0.000\n",
            "    1    0.028    0.701    0.262    0.009    0.000\n",
            "    2    0.004    0.338    0.589    0.043    0.026\n",
            "    3    0.000    0.100    0.500    0.100    0.300\n",
            "    4    0.000    0.000    0.200    0.200    0.600\n",
            "--------------------------------------------------\n",
            "P(3)         0        1        2        3        4\n",
            "    0    0.000    0.000    0.000    0.000    0.000\n",
            "    1    0.000    0.000    0.000    0.000    0.000\n",
            "    2    0.000    0.000    0.941    0.059    0.000\n",
            "    3    0.000    0.000    0.400    0.400    0.200\n",
            "    4    0.000    0.000    0.400    0.133    0.467\n",
            "--------------------------------------------------\n",
            "P(4)         0        1        2        3        4\n",
            "    0    0.000    0.000    0.000    0.000    0.000\n",
            "    1    0.000    0.000    0.000    0.000    0.000\n",
            "    2    0.000    0.000    1.000    0.000    0.000\n",
            "    3    0.000    0.000    0.500    0.500    0.000\n",
            "    4    0.000    0.000    0.500    0.000    0.500\n",
            "--------------------------------------------------\n"
          ],
          "name": "stdout"
        }
      ]
    },
    {
      "cell_type": "code",
      "metadata": {
        "id": "K2OucEBRrP_y",
        "colab_type": "code",
        "colab": {
          "base_uri": "https://localhost:8080/",
          "height": 532
        },
        "outputId": "137c3323-9411-43e9-8e87-a53983f02135"
      },
      "source": [
        "sm.T"
      ],
      "execution_count": null,
      "outputs": [
        {
          "output_type": "execute_result",
          "data": {
            "text/plain": [
              "array([[[1.0776e+04, 2.4360e+03, 2.1000e+01, 0.0000e+00, 0.0000e+00],\n",
              "        [1.7090e+03, 4.3560e+03, 5.7000e+01, 0.0000e+00, 0.0000e+00],\n",
              "        [3.0000e+00, 2.2000e+01, 3.0000e+00, 0.0000e+00, 0.0000e+00],\n",
              "        [0.0000e+00, 0.0000e+00, 0.0000e+00, 0.0000e+00, 0.0000e+00],\n",
              "        [0.0000e+00, 0.0000e+00, 0.0000e+00, 0.0000e+00, 0.0000e+00]],\n",
              "\n",
              "       [[3.9450e+03, 1.6100e+03, 1.5000e+01, 0.0000e+00, 0.0000e+00],\n",
              "        [2.3410e+03, 1.1938e+04, 3.6500e+02, 0.0000e+00, 0.0000e+00],\n",
              "        [1.2000e+01, 3.6800e+02, 1.3400e+02, 1.0000e+00, 0.0000e+00],\n",
              "        [0.0000e+00, 0.0000e+00, 0.0000e+00, 0.0000e+00, 0.0000e+00],\n",
              "        [0.0000e+00, 0.0000e+00, 0.0000e+00, 0.0000e+00, 0.0000e+00]],\n",
              "\n",
              "       [[2.0000e+00, 1.0000e+00, 0.0000e+00, 0.0000e+00, 0.0000e+00],\n",
              "        [3.0000e+00, 7.5000e+01, 2.8000e+01, 1.0000e+00, 0.0000e+00],\n",
              "        [1.0000e+00, 7.8000e+01, 1.3600e+02, 1.0000e+01, 6.0000e+00],\n",
              "        [0.0000e+00, 1.0000e+00, 5.0000e+00, 1.0000e+00, 3.0000e+00],\n",
              "        [0.0000e+00, 0.0000e+00, 1.0000e+00, 1.0000e+00, 3.0000e+00]],\n",
              "\n",
              "       [[0.0000e+00, 0.0000e+00, 0.0000e+00, 0.0000e+00, 0.0000e+00],\n",
              "        [0.0000e+00, 0.0000e+00, 0.0000e+00, 0.0000e+00, 0.0000e+00],\n",
              "        [0.0000e+00, 0.0000e+00, 1.6000e+01, 1.0000e+00, 0.0000e+00],\n",
              "        [0.0000e+00, 0.0000e+00, 4.0000e+00, 4.0000e+00, 2.0000e+00],\n",
              "        [0.0000e+00, 0.0000e+00, 6.0000e+00, 2.0000e+00, 7.0000e+00]],\n",
              "\n",
              "       [[0.0000e+00, 0.0000e+00, 0.0000e+00, 0.0000e+00, 0.0000e+00],\n",
              "        [0.0000e+00, 0.0000e+00, 0.0000e+00, 0.0000e+00, 0.0000e+00],\n",
              "        [0.0000e+00, 0.0000e+00, 1.0000e+00, 0.0000e+00, 0.0000e+00],\n",
              "        [0.0000e+00, 0.0000e+00, 1.0000e+00, 1.0000e+00, 0.0000e+00],\n",
              "        [0.0000e+00, 0.0000e+00, 1.0000e+00, 0.0000e+00, 1.0000e+00]]])"
            ]
          },
          "metadata": {
            "tags": []
          },
          "execution_count": 102
        }
      ]
    },
    {
      "cell_type": "code",
      "metadata": {
        "id": "QlylN5aAHPPr",
        "colab_type": "code",
        "colab": {
          "base_uri": "https://localhost:8080/",
          "height": 35
        },
        "outputId": "fa7f41a6-245f-4b54-8195-8edbd6ec01de"
      },
      "source": [
        "giddy.markov.LISA_Markov(y, w, permutations=0, significance_level=0.05, geoda_quads=False)\n"
      ],
      "execution_count": null,
      "outputs": [
        {
          "output_type": "execute_result",
          "data": {
            "text/plain": [
              "<giddy.markov.LISA_Markov at 0x7f6740a65588>"
            ]
          },
          "metadata": {
            "tags": []
          },
          "execution_count": 81
        }
      ]
    },
    {
      "cell_type": "code",
      "metadata": {
        "id": "0QZUTYb5HPjr",
        "colab_type": "code",
        "colab": {
          "base_uri": "https://localhost:8080/",
          "height": 185
        },
        "outputId": "c8f4939c-b4c6-4695-b580-3c98087452d4"
      },
      "source": [
        "lm = giddy.markov.LISA_Markov(pci.T, w)\n",
        "print(lm.classes)"
      ],
      "execution_count": null,
      "outputs": [
        {
          "output_type": "error",
          "ename": "NameError",
          "evalue": "ignored",
          "traceback": [
            "\u001b[0;31m---------------------------------------------------------------------------\u001b[0m",
            "\u001b[0;31mNameError\u001b[0m                                 Traceback (most recent call last)",
            "\u001b[0;32m<ipython-input-82-1ed9532aa5fd>\u001b[0m in \u001b[0;36m<module>\u001b[0;34m()\u001b[0m\n\u001b[0;32m----> 1\u001b[0;31m \u001b[0mlm\u001b[0m \u001b[0;34m=\u001b[0m \u001b[0mgiddy\u001b[0m\u001b[0;34m.\u001b[0m\u001b[0mmarkov\u001b[0m\u001b[0;34m.\u001b[0m\u001b[0mLISA_Markov\u001b[0m\u001b[0;34m(\u001b[0m\u001b[0mpci\u001b[0m\u001b[0;34m.\u001b[0m\u001b[0mT\u001b[0m\u001b[0;34m,\u001b[0m \u001b[0mw\u001b[0m\u001b[0;34m)\u001b[0m\u001b[0;34m\u001b[0m\u001b[0;34m\u001b[0m\u001b[0m\n\u001b[0m\u001b[1;32m      2\u001b[0m \u001b[0mprint\u001b[0m\u001b[0;34m(\u001b[0m\u001b[0mlm\u001b[0m\u001b[0;34m.\u001b[0m\u001b[0mclasses\u001b[0m\u001b[0;34m)\u001b[0m\u001b[0;34m\u001b[0m\u001b[0;34m\u001b[0m\u001b[0m\n",
            "\u001b[0;31mNameError\u001b[0m: name 'pci' is not defined"
          ]
        }
      ]
    },
    {
      "cell_type": "code",
      "metadata": {
        "id": "xuuVxzi4HPw1",
        "colab_type": "code",
        "colab": {}
      },
      "source": [
        "print(lm.transitions)\n"
      ],
      "execution_count": null,
      "outputs": []
    },
    {
      "cell_type": "code",
      "metadata": {
        "id": "lzXx8NzZHiS2",
        "colab_type": "code",
        "colab": {}
      },
      "source": [
        "print(lm.p)\n"
      ],
      "execution_count": null,
      "outputs": []
    },
    {
      "cell_type": "code",
      "metadata": {
        "id": "CLebz3w2HlPj",
        "colab_type": "code",
        "colab": {}
      },
      "source": [
        "print(lm.steady_state)\n"
      ],
      "execution_count": null,
      "outputs": []
    },
    {
      "cell_type": "code",
      "metadata": {
        "id": "5Tqw8usYHoOF",
        "colab_type": "code",
        "colab": {}
      },
      "source": [
        "print(giddy.ergodic.fmpt(lm.p))\n"
      ],
      "execution_count": null,
      "outputs": []
    },
    {
      "cell_type": "code",
      "metadata": {
        "id": "JSoPlfrKHroM",
        "colab_type": "code",
        "colab": {}
      },
      "source": [
        "print(lm.chi_2)\n"
      ],
      "execution_count": null,
      "outputs": []
    },
    {
      "cell_type": "code",
      "metadata": {
        "id": "8NWEHgh4q_Nx",
        "colab_type": "code",
        "colab": {
          "base_uri": "https://localhost:8080/",
          "height": 70
        },
        "outputId": "f6b55a89-e637-4bf5-fc5d-c63af62e1273"
      },
      "source": [
        "giddy.markov.kullback(sm.T)\n"
      ],
      "execution_count": null,
      "outputs": [
        {
          "output_type": "execute_result",
          "data": {
            "text/plain": [
              "{'Conditional homogeneity': 3910.515852995566,\n",
              " 'Conditional homogeneity dof': 80,\n",
              " 'Conditional homogeneity pvalue': 0.0}"
            ]
          },
          "metadata": {
            "tags": []
          },
          "execution_count": 103
        }
      ]
    },
    {
      "cell_type": "code",
      "metadata": {
        "scrolled": true,
        "id": "n6iQHCrm-LWq",
        "colab_type": "code",
        "colab": {
          "base_uri": "https://localhost:8080/",
          "height": 415
        },
        "outputId": "e0234985-3bd1-48c6-b80b-4afa94537762"
      },
      "source": [
        "import seaborn as sns\n",
        "import matplotlib.pyplot as plt\n",
        "sns.distplot(y.flatten())"
      ],
      "execution_count": null,
      "outputs": [
        {
          "output_type": "stream",
          "text": [
            "/usr/local/lib/python3.6/dist-packages/matplotlib/axes/_axes.py:6521: MatplotlibDeprecationWarning: \n",
            "The 'normed' kwarg was deprecated in Matplotlib 2.1 and will be removed in 3.1. Use 'density' instead.\n",
            "  alternative=\"'density'\", removal=\"3.1\")\n"
          ],
          "name": "stderr"
        },
        {
          "output_type": "execute_result",
          "data": {
            "text/plain": [
              "<matplotlib.axes._subplots.AxesSubplot at 0x7f50049b2630>"
            ]
          },
          "metadata": {
            "tags": []
          },
          "execution_count": 22
        },
        {
          "output_type": "display_data",
          "data": {
            "image/png": "[encoded data removed]",
            "text/plain": [
              "<Figure size 576x396 with 1 Axes>"
            ]
          },
          "metadata": {
            "tags": []
          }
        }
      ]
    },
    {
      "cell_type": "code",
      "metadata": {
        "id": "TVec78bx_Plq",
        "colab_type": "code",
        "colab": {
          "base_uri": "https://localhost:8080/",
          "height": 330
        },
        "outputId": "f4b2a59e-3ee7-40f7-ac12-3708790b1f51"
      },
      "source": [
        "fig, ax = plt.subplots(figsize = (5,5))\n",
        "im = ax.imshow(sm.p,cmap = \"coolwarm\",vmin=0, vmax=1)\n",
        "# Loop over data dimensions and create text annotations.\n",
        "for i in range(len(sm.p)):\n",
        "    for j in range(len(sm.p)):\n",
        "        text = ax.text(j, i, round(sm.p[i, j], 2),\n",
        "                       ha=\"center\", va=\"center\", color=\"w\")\n",
        "ax.figure.colorbar(im, ax=ax)"
      ],
      "execution_count": null,
      "outputs": [
        {
          "output_type": "execute_result",
          "data": {
            "text/plain": [
              "<matplotlib.colorbar.Colorbar at 0x7f5004564b38>"
            ]
          },
          "metadata": {
            "tags": []
          },
          "execution_count": 24
        },
        {
          "output_type": "display_data",
          "data": {
            "image/png": "[encoded data removed]",
            "text/plain": [
              "<Figure size 360x360 with 2 Axes>"
            ]
          },
          "metadata": {
            "tags": []
          }
        }
      ]
    },
    {
      "cell_type": "code",
      "metadata": {
        "id": "rjK6G9GgZ87_",
        "colab_type": "code",
        "colab": {}
      },
      "source": [
        "we use seaborn to create a heatmap (`pip install seaborn` to install seaborn if you do not have it)\n",
        "import seaborn as sns\n",
        "sns.set()\n",
        "\n",
        "fig, ax = plt.subplots(figsize = (5,4))\n",
        "im = sns.heatmap(sm.p, annot=True, linewidths=.5, ax=ax, cbar=True, vmin=0, vmax=1,\n",
        "                          square=True,  cmap=\"YlGn\",fmt='.3f')"
      ],
      "execution_count": null,
      "outputs": []
    },
    {
      "cell_type": "code",
      "metadata": {
        "id": "d-mivkINAZ6s",
        "colab_type": "code",
        "colab": {
          "base_uri": "https://localhost:8080/",
          "height": 632
        },
        "outputId": "334cf0cd-cb28-4737-c760-a6c575f10cb4"
      },
      "source": [
        "fig, axes = plt.subplots(2,3,figsize = (15,10)) \n",
        "\n",
        "for i in range(2):\n",
        "    for j in range(3):\n",
        "        ax = axes[i,j]\n",
        "        if i==1 and j==2:\n",
        "            ax.axis('off')\n",
        "            continue\n",
        "        # Loop over data dimensions and create text annotations.\n",
        "        p_temp = sm.P[i*3+j]\n",
        "        for x in range(len(p_temp)):\n",
        "            for y in range(len(p_temp)):\n",
        "                text = ax.text(y, x, round(p_temp[x, y], 2),\n",
        "                               ha=\"center\", va=\"center\", color=\"w\")\n",
        "        im = ax.imshow(p_temp,cmap = \"coolwarm\",vmin=0, vmax=1)\n",
        "        ax.set_title(\"Spatial Lag %d\"%(i*3+j),fontsize=18) \n",
        "fig.subplots_adjust(right=0.92)\n",
        "cbar_ax = fig.add_axes([0.95, 0.228, 0.01, 0.5])\n",
        "fig.colorbar(im, cax=cbar_ax)"
      ],
      "execution_count": null,
      "outputs": [
        {
          "output_type": "execute_result",
          "data": {
            "text/plain": [
              "<matplotlib.colorbar.Colorbar at 0x7f4b4ec2b3c8>"
            ]
          },
          "metadata": {
            "tags": []
          },
          "execution_count": 79
        },
        {
          "output_type": "display_data",
          "data": {
            "image/png": "[encoded data removed]",
            "text/plain": [
              "<Figure size 1080x720 with 7 Axes>"
            ]
          },
          "metadata": {
            "tags": []
          }
        }
      ]
    },
    {
      "cell_type": "code",
      "metadata": {
        "id": "DbzXbHDZAmbi",
        "colab_type": "code",
        "colab": {
          "base_uri": "https://localhost:8080/",
          "height": 632
        },
        "outputId": "3f6198ea-90be-4f32-fefd-ddd220416d35"
      },
      "source": [
        "fig, axes = plt.subplots(2,3,figsize = (15,10)) \n",
        "\n",
        "for i in range(2):\n",
        "    for j in range(3):\n",
        "        ax = axes[i,j]\n",
        "        if i==1 and j==2:\n",
        "            ax.axis('off')\n",
        "            continue\n",
        "        # Loop over data dimensions and create text annotations.\n",
        "        p_temp = sm.P[i*3+j]\n",
        "        for x in range(len(p_temp)):\n",
        "            for y in range(len(p_temp)):\n",
        "                text = ax.text(y, x, round(p_temp[x, y], 2),\n",
        "                               ha=\"center\", va=\"center\", color=\"w\")\n",
        "        im = ax.imshow(p_temp,cmap = \"coolwarm\",vmin=0, vmax=1)\n",
        "        ax.set_title(\"Spatial Lag %d\"%(i*3+j),fontsize=18) \n",
        "fig.subplots_adjust(right=0.92)\n",
        "cbar_ax = fig.add_axes([0.95, 0.228, 0.01, 0.5])\n",
        "fig.colorbar(im, cax=cbar_ax)"
      ],
      "execution_count": null,
      "outputs": [
        {
          "output_type": "execute_result",
          "data": {
            "text/plain": [
              "<matplotlib.colorbar.Colorbar at 0x7f4b5119fe10>"
            ]
          },
          "metadata": {
            "tags": []
          },
          "execution_count": 61
        },
        {
          "output_type": "display_data",
          "data": {
            "image/png": "[encoded data removed]",
            "text/plain": [
              "<Figure size 1080x720 with 7 Axes>"
            ]
          },
          "metadata": {
            "tags": []
          }
        }
      ]
    },
    {
      "cell_type": "code",
      "metadata": {
        "id": "Rk14rnWKZwEW",
        "colab_type": "code",
        "colab": {
          "base_uri": "https://localhost:8080/",
          "height": 501
        },
        "outputId": "e93f044a-ddf7-44e0-a82c-70dbb7686c8a"
      },
      "source": [
        "fig, axes = plt.subplots(2,3,figsize = (15,8)) \n",
        "\n",
        "for i in range(2):\n",
        "    for j in range(3):\n",
        "        ax = axes[i,j]\n",
        "        if i==1 and j==2:\n",
        "            ax.axis('off')\n",
        "            continue\n",
        "        p_temp = sm.P[i*3+j]\n",
        "        im = sns.heatmap(p_temp, annot=True, linewidths=.5, ax=ax, cbar=True, vmin=0, vmax=1,\n",
        "                          square=True, cmap=\"YlGn\",fmt='.3f')\n",
        "        ax.set_title(\"Spatial Lag %d\"%(i*3+j),fontsize=13)"
      ],
      "execution_count": null,
      "outputs": [
        {
          "output_type": "display_data",
          "data": {
            "image/png": "[encoded data removed]",
            "text/plain": [
              "<Figure size 1080x576 with 11 Axes>"
            ]
          },
          "metadata": {
            "tags": []
          }
        }
      ]
    },
    {
      "cell_type": "code",
      "metadata": {
        "id": "9SQmgGO3AvLB",
        "colab_type": "code",
        "colab": {
          "base_uri": "https://localhost:8080/",
          "height": 187
        },
        "outputId": "002a8018-2bf0-457d-9802-c78d724285c2"
      },
      "source": [
        "print(sm.S)\n"
      ],
      "execution_count": null,
      "outputs": [
        {
          "output_type": "stream",
          "text": [
            "[[5.98635823e-01 3.96168941e-01 5.19523593e-03 0.00000000e+00\n",
            "  0.00000000e+00]\n",
            " [3.47200258e-01 6.30256810e-01 2.24992423e-02 4.36897579e-05\n",
            "  0.00000000e+00]\n",
            " [4.61603085e-02 4.90352049e-01 3.78512259e-01 3.45123802e-02\n",
            "  5.04630033e-02]\n",
            " [0.00000000e+00 0.00000000e+00 8.71794872e-01 9.32400932e-02\n",
            "  3.49650350e-02]\n",
            " [0.00000000e+00 0.00000000e+00 1.00000000e+00 0.00000000e+00\n",
            "  0.00000000e+00]]\n"
          ],
          "name": "stdout"
        }
      ]
    },
    {
      "cell_type": "code",
      "metadata": {
        "id": "v57mKcoFAzv9",
        "colab_type": "code",
        "colab": {
          "base_uri": "https://localhost:8080/",
          "height": 935
        },
        "outputId": "6b0c6e26-a58a-462d-b154-8a1b2c166ac1"
      },
      "source": [
        "print(sm.F)\n"
      ],
      "execution_count": null,
      "outputs": [
        {
          "output_type": "stream",
          "text": [
            "[[[1.67046468e+00 5.40094847e+00 2.17591822e+02 1.00000000e+00\n",
            "   1.00000000e+00]\n",
            "  [3.60513801e+00 2.52417567e+00 2.14035348e+02 1.00000000e+00\n",
            "   1.00000000e+00]\n",
            "  [4.29252145e+00 1.76811382e+00 1.92484040e+02 1.00000000e+00\n",
            "   1.00000000e+00]\n",
            "  [3.45054437e+00 5.24238700e+00 2.17052417e+02 1.00000000e+00\n",
            "   1.00000000e+00]\n",
            "  [3.45054437e+00 5.24238700e+00 2.17052417e+02 1.00000000e+00\n",
            "   1.00000000e+00]]\n",
            "\n",
            " [[2.88018220e+00 3.44109794e+00 6.15172092e+01 2.28908631e+04\n",
            "   1.00000000e+00]\n",
            "  [6.43423474e+00 1.58665481e+00 5.86308747e+01 2.28879768e+04\n",
            "   1.00000000e+00]\n",
            "  [7.58268214e+00 1.46850005e+00 4.44459413e+01 2.28293459e+04\n",
            "   1.00000000e+00]\n",
            "  [6.22600951e+00 3.22784388e+00 6.03138467e+01 2.28886597e+04\n",
            "   1.00000000e+00]\n",
            "  [6.22600951e+00 3.22784388e+00 6.03138467e+01 2.28886597e+04\n",
            "   1.00000000e+00]]\n",
            "\n",
            " [[2.16636334e+01 3.00000000e+00 7.09930716e+00 4.16929825e+01\n",
            "   6.19681290e+01]\n",
            "  [6.19909001e+01 2.03935112e+00 4.09930716e+00 3.86929825e+01\n",
            "   5.89681290e+01]\n",
            "  [6.46458436e+01 3.45995045e+00 2.64192236e+00 3.59320175e+01\n",
            "   5.55553056e+01]\n",
            "  [6.66251845e+01 5.33195706e+00 2.87990762e+00 2.89751096e+01\n",
            "   3.85271841e+01]\n",
            "  [6.81355140e+01 6.89595376e+00 3.93995381e+00 2.04660088e+01\n",
            "   1.98164979e+01]]\n",
            "\n",
            " [[1.00000000e+00 1.00000000e+00 2.32051282e+00 1.73318765e+01\n",
            "   5.44568765e+01]\n",
            "  [1.00000000e+00 1.00000000e+00 2.32051282e+00 1.73318765e+01\n",
            "   5.44568765e+01]\n",
            "  [1.00000000e+00 1.00000000e+00 1.14705882e+00 1.70000000e+01\n",
            "   5.60000000e+01]\n",
            "  [1.00000000e+00 1.00000000e+00 2.50000000e+00 1.07250000e+01\n",
            "   3.90000000e+01]\n",
            "  [1.00000000e+00 1.00000000e+00 2.50000000e+00 1.46250000e+01\n",
            "   2.86000000e+01]]\n",
            "\n",
            " [[1.00000000e+00 1.00000000e+00 2.00000000e+00 2.00000000e+00\n",
            "   2.00000000e+00]\n",
            "  [1.00000000e+00 1.00000000e+00 2.00000000e+00 2.00000000e+00\n",
            "   2.00000000e+00]\n",
            "  [1.00000000e+00 1.00000000e+00 1.00000000e+00 2.00000000e+00\n",
            "   2.00000000e+00]\n",
            "  [1.00000000e+00 1.00000000e+00 2.00000000e+00 1.00000000e+00\n",
            "   2.00000000e+00]\n",
            "  [1.00000000e+00 1.00000000e+00 2.00000000e+00 2.00000000e+00\n",
            "   1.00000000e+00]]]\n"
          ],
          "name": "stdout"
        }
      ]
    },
    {
      "cell_type": "code",
      "metadata": {
        "id": "vSv88-YRA7sz",
        "colab_type": "code",
        "colab": {
          "base_uri": "https://localhost:8080/",
          "height": 995
        },
        "outputId": "7cba93b8-dcd5-48cd-d90a-c5399ff05420"
      },
      "source": [
        "giddy.markov.Homogeneity_Results(sm.T).summary()\n"
      ],
      "execution_count": null,
      "outputs": [
        {
          "output_type": "stream",
          "text": [
            "--------------------------------------------------\n",
            "             Markov Homogeneity Test              \n",
            "--------------------------------------------------\n",
            "Number of classes: 5\n",
            "Number of transitions: 40515\n",
            "Number of regimes: 5\n",
            "Regime names: 0, 1, 2, 3, 4\n",
            "--------------------------------------------------\n",
            "   Test                   LR                Chi-2\n",
            "  Stat.              969.316             1355.926\n",
            "    DOF                   36                   36\n",
            "p-value                0.000                0.000\n",
            "--------------------------------------------------\n",
            "P(H0)        0        1        2        3        4\n",
            "    0    0.783    0.215    0.002    0.000    0.000\n",
            "    1    0.194    0.784    0.022    0.000    0.000\n",
            "    2    0.020    0.591    0.366    0.015    0.008\n",
            "    3    0.000    0.045    0.455    0.273    0.227\n",
            "    4    0.000    0.000    0.364    0.136    0.500\n",
            "--------------------------------------------------\n",
            "P(0)         0        1        2        3        4\n",
            "    0    0.814    0.184    0.002    0.000    0.000\n",
            "    1    0.279    0.712    0.009    0.000    0.000\n",
            "    2    0.107    0.786    0.107    0.000    0.000\n",
            "    3    0.000    0.000    0.000    0.000    0.000\n",
            "    4    0.000    0.000    0.000    0.000    0.000\n",
            "--------------------------------------------------\n",
            "P(1)         0        1        2        3        4\n",
            "    0    0.708    0.289    0.003    0.000    0.000\n",
            "    1    0.160    0.815    0.025    0.000    0.000\n",
            "    2    0.023    0.715    0.260    0.002    0.000\n",
            "    3    0.000    0.000    0.000    0.000    0.000\n",
            "    4    0.000    0.000    0.000    0.000    0.000\n",
            "--------------------------------------------------\n",
            "P(2)         0        1        2        3        4\n",
            "    0    0.667    0.333    0.000    0.000    0.000\n",
            "    1    0.028    0.701    0.262    0.009    0.000\n",
            "    2    0.004    0.338    0.589    0.043    0.026\n",
            "    3    0.000    0.100    0.500    0.100    0.300\n",
            "    4    0.000    0.000    0.200    0.200    0.600\n",
            "--------------------------------------------------\n",
            "P(3)         0        1        2        3        4\n",
            "    0    0.000    0.000    0.000    0.000    0.000\n",
            "    1    0.000    0.000    0.000    0.000    0.000\n",
            "    2    0.000    0.000    0.941    0.059    0.000\n",
            "    3    0.000    0.000    0.400    0.400    0.200\n",
            "    4    0.000    0.000    0.400    0.133    0.467\n",
            "--------------------------------------------------\n",
            "P(4)         0        1        2        3        4\n",
            "    0    0.000    0.000    0.000    0.000    0.000\n",
            "    1    0.000    0.000    0.000    0.000    0.000\n",
            "    2    0.000    0.000    1.000    0.000    0.000\n",
            "    3    0.000    0.000    0.500    0.500    0.000\n",
            "    4    0.000    0.000    0.500    0.000    0.500\n",
            "--------------------------------------------------\n"
          ],
          "name": "stdout"
        }
      ]
    },
    {
      "cell_type": "code",
      "metadata": {
        "id": "ZKTOzGfHgx28",
        "colab_type": "code",
        "colab": {}
      },
      "source": [
        ""
      ],
      "execution_count": null,
      "outputs": []
    },
    {
      "cell_type": "code",
      "metadata": {
        "id": "21PdtSizoU9z",
        "colab_type": "code",
        "colab": {
          "base_uri": "https://localhost:8080/",
          "height": 995
        },
        "outputId": "a70edea9-8806-4bee-8a1a-d21bfba9834e"
      },
      "source": [
        "giddy.markov.Homogeneity_Results(sm.T).summary()\n"
      ],
      "execution_count": null,
      "outputs": [
        {
          "output_type": "stream",
          "text": [
            "--------------------------------------------------\n",
            "             Markov Homogeneity Test              \n",
            "--------------------------------------------------\n",
            "Number of classes: 5\n",
            "Number of transitions: 40515\n",
            "Number of regimes: 5\n",
            "Regime names: 0, 1, 2, 3, 4\n",
            "--------------------------------------------------\n",
            "   Test                   LR                Chi-2\n",
            "  Stat.              969.316             1355.926\n",
            "    DOF                   36                   36\n",
            "p-value                0.000                0.000\n",
            "--------------------------------------------------\n",
            "P(H0)        0        1        2        3        4\n",
            "    0    0.783    0.215    0.002    0.000    0.000\n",
            "    1    0.194    0.784    0.022    0.000    0.000\n",
            "    2    0.020    0.591    0.366    0.015    0.008\n",
            "    3    0.000    0.045    0.455    0.273    0.227\n",
            "    4    0.000    0.000    0.364    0.136    0.500\n",
            "--------------------------------------------------\n",
            "P(0)         0        1        2        3        4\n",
            "    0    0.814    0.184    0.002    0.000    0.000\n",
            "    1    0.279    0.712    0.009    0.000    0.000\n",
            "    2    0.107    0.786    0.107    0.000    0.000\n",
            "    3    0.000    0.000    0.000    0.000    0.000\n",
            "    4    0.000    0.000    0.000    0.000    0.000\n",
            "--------------------------------------------------\n",
            "P(1)         0        1        2        3        4\n",
            "    0    0.708    0.289    0.003    0.000    0.000\n",
            "    1    0.160    0.815    0.025    0.000    0.000\n",
            "    2    0.023    0.715    0.260    0.002    0.000\n",
            "    3    0.000    0.000    0.000    0.000    0.000\n",
            "    4    0.000    0.000    0.000    0.000    0.000\n",
            "--------------------------------------------------\n",
            "P(2)         0        1        2        3        4\n",
            "    0    0.667    0.333    0.000    0.000    0.000\n",
            "    1    0.028    0.701    0.262    0.009    0.000\n",
            "    2    0.004    0.338    0.589    0.043    0.026\n",
            "    3    0.000    0.100    0.500    0.100    0.300\n",
            "    4    0.000    0.000    0.200    0.200    0.600\n",
            "--------------------------------------------------\n",
            "P(3)         0        1        2        3        4\n",
            "    0    0.000    0.000    0.000    0.000    0.000\n",
            "    1    0.000    0.000    0.000    0.000    0.000\n",
            "    2    0.000    0.000    0.941    0.059    0.000\n",
            "    3    0.000    0.000    0.400    0.400    0.200\n",
            "    4    0.000    0.000    0.400    0.133    0.467\n",
            "--------------------------------------------------\n",
            "P(4)         0        1        2        3        4\n",
            "    0    0.000    0.000    0.000    0.000    0.000\n",
            "    1    0.000    0.000    0.000    0.000    0.000\n",
            "    2    0.000    0.000    1.000    0.000    0.000\n",
            "    3    0.000    0.000    0.500    0.500    0.000\n",
            "    4    0.000    0.000    0.500    0.000    0.500\n",
            "--------------------------------------------------\n"
          ],
          "name": "stdout"
        }
      ]
    },
    {
      "cell_type": "code",
      "metadata": {
        "id": "Ca1ipnT0BJuX",
        "colab_type": "code",
        "colab": {
          "base_uri": "https://localhost:8080/",
          "height": 34
        },
        "outputId": "48757ebc-b2a7-42db-c1e2-13705cf1aebb"
      },
      "source": [
        "print(giddy.markov.kullback(sm.T))\n"
      ],
      "execution_count": null,
      "outputs": [
        {
          "output_type": "stream",
          "text": [
            "{'Conditional homogeneity': 3910.515852995566, 'Conditional homogeneity dof': 80, 'Conditional homogeneity pvalue': 0.0}\n"
          ],
          "name": "stdout"
        }
      ]
    },
    {
      "cell_type": "code",
      "metadata": {
        "id": "dfx7VJzwBTpM",
        "colab_type": "code",
        "colab": {}
      },
      "source": [
        ""
      ],
      "execution_count": null,
      "outputs": []
    },
    {
      "cell_type": "code",
      "metadata": {
        "id": "jmUTq9eZG2fW",
        "colab_type": "code",
        "colab": {
          "base_uri": "https://localhost:8080/",
          "height": 187
        },
        "outputId": "b72f17d4-187c-4709-cbf8-6c66b79a6b93"
      },
      "source": [
        "sm.S  # Steady state"
      ],
      "execution_count": null,
      "outputs": [
        {
          "output_type": "execute_result",
          "data": {
            "text/plain": [
              "array([[5.98635823e-01, 3.96168941e-01, 5.19523593e-03, 0.00000000e+00,\n",
              "        0.00000000e+00],\n",
              "       [3.47200258e-01, 6.30256810e-01, 2.24992423e-02, 4.36897579e-05,\n",
              "        0.00000000e+00],\n",
              "       [4.61603085e-02, 4.90352049e-01, 3.78512259e-01, 3.45123802e-02,\n",
              "        5.04630033e-02],\n",
              "       [0.00000000e+00, 0.00000000e+00, 8.71794872e-01, 9.32400932e-02,\n",
              "        3.49650350e-02],\n",
              "       [0.00000000e+00, 0.00000000e+00, 1.00000000e+00, 0.00000000e+00,\n",
              "        0.00000000e+00]])"
            ]
          },
          "metadata": {
            "tags": []
          },
          "execution_count": 35
        }
      ]
    },
    {
      "cell_type": "code",
      "metadata": {
        "id": "fuRfy28bvLHf",
        "colab_type": "code",
        "colab": {}
      },
      "source": [
        "print(sm.S)"
      ],
      "execution_count": null,
      "outputs": []
    },
    {
      "cell_type": "code",
      "metadata": {
        "id": "eY1t_k22G2lq",
        "colab_type": "code",
        "colab": {
          "base_uri": "https://localhost:8080/",
          "height": 34
        },
        "outputId": "500a92b3-3ff7-4885-a676-215713f3033f"
      },
      "source": [
        "sm.x2_dof"
      ],
      "execution_count": null,
      "outputs": [
        {
          "output_type": "execute_result",
          "data": {
            "text/plain": [
              "80"
            ]
          },
          "metadata": {
            "tags": []
          },
          "execution_count": 36
        }
      ]
    },
    {
      "cell_type": "code",
      "metadata": {
        "id": "rdPu7gH9G2jU",
        "colab_type": "code",
        "colab": {
          "base_uri": "https://localhost:8080/",
          "height": 34
        },
        "outputId": "133a5724-0e71-492e-877c-201fb511a42d"
      },
      "source": [
        "sm.x2_pvalue"
      ],
      "execution_count": null,
      "outputs": [
        {
          "output_type": "execute_result",
          "data": {
            "text/plain": [
              "0.0"
            ]
          },
          "metadata": {
            "tags": []
          },
          "execution_count": 37
        }
      ]
    },
    {
      "cell_type": "code",
      "metadata": {
        "id": "ea8aWL6lG_Hs",
        "colab_type": "code",
        "colab": {
          "base_uri": "https://localhost:8080/",
          "height": 34
        },
        "outputId": "7a31d24c-1814-414c-c4d5-f6e3f3b83447"
      },
      "source": [
        "sm.x2"
      ],
      "execution_count": null,
      "outputs": [
        {
          "output_type": "execute_result",
          "data": {
            "text/plain": [
              "1355.9255422533522"
            ]
          },
          "metadata": {
            "tags": []
          },
          "execution_count": 38
        }
      ]
    },
    {
      "cell_type": "code",
      "metadata": {
        "id": "1hlsgrywHI9r",
        "colab_type": "code",
        "colab": {
          "base_uri": "https://localhost:8080/",
          "height": 527
        },
        "outputId": "6ea00749-b8d7-41c7-8b8a-5c95c31db9e6"
      },
      "source": [
        "for f in sm.F:\n",
        "    print (f) "
      ],
      "execution_count": null,
      "outputs": [
        {
          "output_type": "stream",
          "text": [
            "[[  1.67046468   5.40094847 217.59182212   1.           1.        ]\n",
            " [  3.60513801   2.52417567 214.03534768   1.           1.        ]\n",
            " [  4.29252145   1.76811382 192.48403983   1.           1.        ]\n",
            " [  3.45054437   5.242387   217.05241655   1.           1.        ]\n",
            " [  3.45054437   5.242387   217.05241655   1.           1.        ]]\n",
            "[[2.88018220e+00 3.44109794e+00 6.15172092e+01 2.28908631e+04\n",
            "  1.00000000e+00]\n",
            " [6.43423474e+00 1.58665481e+00 5.86308747e+01 2.28879768e+04\n",
            "  1.00000000e+00]\n",
            " [7.58268214e+00 1.46850005e+00 4.44459413e+01 2.28293459e+04\n",
            "  1.00000000e+00]\n",
            " [6.22600951e+00 3.22784388e+00 6.03138467e+01 2.28886597e+04\n",
            "  1.00000000e+00]\n",
            " [6.22600951e+00 3.22784388e+00 6.03138467e+01 2.28886597e+04\n",
            "  1.00000000e+00]]\n",
            "[[21.66363338  3.          7.09930716 41.69298246 61.96812898]\n",
            " [61.99090015  2.03935112  4.09930716 38.69298246 58.96812898]\n",
            " [64.64584358  3.45995045  2.64192236 35.93201754 55.55530559]\n",
            " [66.62518446  5.33195706  2.87990762 28.97510965 38.5271841 ]\n",
            " [68.13551402  6.89595376  3.93995381 20.46600877 19.81649794]]\n",
            "[[ 1.          1.          2.32051282 17.33187646 54.45687646]\n",
            " [ 1.          1.          2.32051282 17.33187646 54.45687646]\n",
            " [ 1.          1.          1.14705882 17.         56.        ]\n",
            " [ 1.          1.          2.5        10.725      39.        ]\n",
            " [ 1.          1.          2.5        14.625      28.6       ]]\n",
            "[[1. 1. 2. 2. 2.]\n",
            " [1. 1. 2. 2. 2.]\n",
            " [1. 1. 1. 2. 2.]\n",
            " [1. 1. 2. 1. 2.]\n",
            " [1. 1. 2. 2. 1.]]\n"
          ],
          "name": "stdout"
        }
      ]
    },
    {
      "cell_type": "code",
      "metadata": {
        "id": "D6Kj06gEd4wh",
        "colab_type": "code",
        "colab": {
          "base_uri": "https://localhost:8080/",
          "height": 442
        },
        "outputId": "3c769d63-1a4b-4a53-b1c8-7a1117c99410"
      },
      "source": [
        "# the estimated spatially lag conditioned transition probability matrices\n",
        "\n",
        "for f in sm.P:\n",
        "    print (f) "
      ],
      "execution_count": null,
      "outputs": [
        {
          "output_type": "stream",
          "text": [
            "[[0.81432782 0.18408524 0.00158694 0.         0.        ]\n",
            " [0.27915714 0.71153218 0.00931068 0.         0.        ]\n",
            " [0.10714286 0.78571429 0.10714286 0.         0.        ]\n",
            " [0.         0.         0.         0.         0.        ]\n",
            " [0.         0.         0.         0.         0.        ]]\n",
            "[[0.70825853 0.28904847 0.002693   0.         0.        ]\n",
            " [0.15986069 0.81521442 0.02492488 0.         0.        ]\n",
            " [0.02330097 0.71456311 0.26019417 0.00194175 0.        ]\n",
            " [0.         0.         0.         0.         0.        ]\n",
            " [0.         0.         0.         0.         0.        ]]\n",
            "[[0.66666667 0.33333333 0.         0.         0.        ]\n",
            " [0.02803738 0.70093458 0.26168224 0.00934579 0.        ]\n",
            " [0.004329   0.33766234 0.58874459 0.04329004 0.02597403]\n",
            " [0.         0.1        0.5        0.1        0.3       ]\n",
            " [0.         0.         0.2        0.2        0.6       ]]\n",
            "[[0.         0.         0.         0.         0.        ]\n",
            " [0.         0.         0.         0.         0.        ]\n",
            " [0.         0.         0.94117647 0.05882353 0.        ]\n",
            " [0.         0.         0.4        0.4        0.2       ]\n",
            " [0.         0.         0.4        0.13333333 0.46666667]]\n",
            "[[0.  0.  0.  0.  0. ]\n",
            " [0.  0.  0.  0.  0. ]\n",
            " [0.  0.  1.  0.  0. ]\n",
            " [0.  0.  0.5 0.5 0. ]\n",
            " [0.  0.  0.5 0.  0.5]]\n"
          ],
          "name": "stdout"
        }
      ]
    },
    {
      "cell_type": "code",
      "metadata": {
        "id": "rEKL7shUeE4V",
        "colab_type": "code",
        "colab": {
          "base_uri": "https://localhost:8080/",
          "height": 527
        },
        "outputId": "7248b9a9-c74f-4c6f-8ac5-5b912a6e1a3a"
      },
      "source": [
        "for df in sm.F:\n",
        "    print (df) "
      ],
      "execution_count": null,
      "outputs": [
        {
          "output_type": "stream",
          "text": [
            "[[  1.67046468   5.40094847 217.59182212   1.           1.        ]\n",
            " [  3.60513801   2.52417567 214.03534768   1.           1.        ]\n",
            " [  4.29252145   1.76811382 192.48403983   1.           1.        ]\n",
            " [  3.45054437   5.242387   217.05241655   1.           1.        ]\n",
            " [  3.45054437   5.242387   217.05241655   1.           1.        ]]\n",
            "[[2.88018220e+00 3.44109794e+00 6.15172092e+01 2.28908631e+04\n",
            "  1.00000000e+00]\n",
            " [6.43423474e+00 1.58665481e+00 5.86308747e+01 2.28879768e+04\n",
            "  1.00000000e+00]\n",
            " [7.58268214e+00 1.46850005e+00 4.44459413e+01 2.28293459e+04\n",
            "  1.00000000e+00]\n",
            " [6.22600951e+00 3.22784388e+00 6.03138467e+01 2.28886597e+04\n",
            "  1.00000000e+00]\n",
            " [6.22600951e+00 3.22784388e+00 6.03138467e+01 2.28886597e+04\n",
            "  1.00000000e+00]]\n",
            "[[21.66363338  3.          7.09930716 41.69298246 61.96812898]\n",
            " [61.99090015  2.03935112  4.09930716 38.69298246 58.96812898]\n",
            " [64.64584358  3.45995045  2.64192236 35.93201754 55.55530559]\n",
            " [66.62518446  5.33195706  2.87990762 28.97510965 38.5271841 ]\n",
            " [68.13551402  6.89595376  3.93995381 20.46600877 19.81649794]]\n",
            "[[ 1.          1.          2.32051282 17.33187646 54.45687646]\n",
            " [ 1.          1.          2.32051282 17.33187646 54.45687646]\n",
            " [ 1.          1.          1.14705882 17.         56.        ]\n",
            " [ 1.          1.          2.5        10.725      39.        ]\n",
            " [ 1.          1.          2.5        14.625      28.6       ]]\n",
            "[[1. 1. 2. 2. 2.]\n",
            " [1. 1. 2. 2. 2.]\n",
            " [1. 1. 1. 2. 2.]\n",
            " [1. 1. 2. 1. 2.]\n",
            " [1. 1. 2. 2. 1.]]\n"
          ],
          "name": "stdout"
        }
      ]
    },
    {
      "cell_type": "code",
      "metadata": {
        "id": "_TkE3LlneJQd",
        "colab_type": "code",
        "colab": {
          "base_uri": "https://localhost:8080/",
          "height": 442
        },
        "outputId": "9a41aa39-bb8f-4f8b-dd21-5d2018db3af8"
      },
      "source": [
        "for df in sm.P:\n",
        "    print (df) "
      ],
      "execution_count": null,
      "outputs": [
        {
          "output_type": "stream",
          "text": [
            "[[0.81432782 0.18408524 0.00158694 0.         0.        ]\n",
            " [0.27915714 0.71153218 0.00931068 0.         0.        ]\n",
            " [0.10714286 0.78571429 0.10714286 0.         0.        ]\n",
            " [0.         0.         0.         0.         0.        ]\n",
            " [0.         0.         0.         0.         0.        ]]\n",
            "[[0.70825853 0.28904847 0.002693   0.         0.        ]\n",
            " [0.15986069 0.81521442 0.02492488 0.         0.        ]\n",
            " [0.02330097 0.71456311 0.26019417 0.00194175 0.        ]\n",
            " [0.         0.         0.         0.         0.        ]\n",
            " [0.         0.         0.         0.         0.        ]]\n",
            "[[0.66666667 0.33333333 0.         0.         0.        ]\n",
            " [0.02803738 0.70093458 0.26168224 0.00934579 0.        ]\n",
            " [0.004329   0.33766234 0.58874459 0.04329004 0.02597403]\n",
            " [0.         0.1        0.5        0.1        0.3       ]\n",
            " [0.         0.         0.2        0.2        0.6       ]]\n",
            "[[0.         0.         0.         0.         0.        ]\n",
            " [0.         0.         0.         0.         0.        ]\n",
            " [0.         0.         0.94117647 0.05882353 0.        ]\n",
            " [0.         0.         0.4        0.4        0.2       ]\n",
            " [0.         0.         0.4        0.13333333 0.46666667]]\n",
            "[[0.  0.  0.  0.  0. ]\n",
            " [0.  0.  0.  0.  0. ]\n",
            " [0.  0.  1.  0.  0. ]\n",
            " [0.  0.  0.5 0.5 0. ]\n",
            " [0.  0.  0.5 0.  0.5]]\n"
          ],
          "name": "stdout"
        }
      ]
    },
    {
      "cell_type": "code",
      "metadata": {
        "id": "JmLnT-FYG8bt",
        "colab_type": "code",
        "colab": {}
      },
      "source": [
        "sm.summary()"
      ],
      "execution_count": null,
      "outputs": []
    },
    {
      "cell_type": "code",
      "metadata": {
        "id": "Bx4tE4Fu76py",
        "colab_type": "code",
        "colab": {
          "base_uri": "https://localhost:8080/",
          "height": 163
        },
        "outputId": "b89151fe-76f0-49a1-f0fc-7a34978c393b"
      },
      "source": [
        "print(sm.transitions)"
      ],
      "execution_count": null,
      "outputs": [
        {
          "output_type": "error",
          "ename": "NameError",
          "evalue": "ignored",
          "traceback": [
            "\u001b[0;31m---------------------------------------------------------------------------\u001b[0m",
            "\u001b[0;31mNameError\u001b[0m                                 Traceback (most recent call last)",
            "\u001b[0;32m<ipython-input-1-1e28fe8ce59a>\u001b[0m in \u001b[0;36m<module>\u001b[0;34m()\u001b[0m\n\u001b[0;32m----> 1\u001b[0;31m \u001b[0mprint\u001b[0m\u001b[0;34m(\u001b[0m\u001b[0msm\u001b[0m\u001b[0;34m.\u001b[0m\u001b[0mtransitions\u001b[0m\u001b[0;34m)\u001b[0m\u001b[0;34m\u001b[0m\u001b[0;34m\u001b[0m\u001b[0m\n\u001b[0m",
            "\u001b[0;31mNameError\u001b[0m: name 'sm' is not defined"
          ]
        }
      ]
    },
    {
      "cell_type": "code",
      "metadata": {
        "id": "cuzWnouyeOYB",
        "colab_type": "code",
        "colab": {
          "base_uri": "https://localhost:8080/",
          "height": 510
        },
        "outputId": "89f016b5-3195-4d4a-f752-5d38213836d1"
      },
      "source": [
        "sm.P    # spatial transition probability matrix\n",
        "     "
      ],
      "execution_count": null,
      "outputs": [
        {
          "output_type": "execute_result",
          "data": {
            "text/plain": [
              "array([[[0.81432782, 0.18408524, 0.00158694, 0.        , 0.        ],\n",
              "        [0.27915714, 0.71153218, 0.00931068, 0.        , 0.        ],\n",
              "        [0.10714286, 0.78571429, 0.10714286, 0.        , 0.        ],\n",
              "        [0.        , 0.        , 0.        , 0.        , 0.        ],\n",
              "        [0.        , 0.        , 0.        , 0.        , 0.        ]],\n",
              "\n",
              "       [[0.70825853, 0.28904847, 0.002693  , 0.        , 0.        ],\n",
              "        [0.15986069, 0.81521442, 0.02492488, 0.        , 0.        ],\n",
              "        [0.02330097, 0.71456311, 0.26019417, 0.00194175, 0.        ],\n",
              "        [0.        , 0.        , 0.        , 0.        , 0.        ],\n",
              "        [0.        , 0.        , 0.        , 0.        , 0.        ]],\n",
              "\n",
              "       [[0.66666667, 0.33333333, 0.        , 0.        , 0.        ],\n",
              "        [0.02803738, 0.70093458, 0.26168224, 0.00934579, 0.        ],\n",
              "        [0.004329  , 0.33766234, 0.58874459, 0.04329004, 0.02597403],\n",
              "        [0.        , 0.1       , 0.5       , 0.1       , 0.3       ],\n",
              "        [0.        , 0.        , 0.2       , 0.2       , 0.6       ]],\n",
              "\n",
              "       [[0.        , 0.        , 0.        , 0.        , 0.        ],\n",
              "        [0.        , 0.        , 0.        , 0.        , 0.        ],\n",
              "        [0.        , 0.        , 0.94117647, 0.05882353, 0.        ],\n",
              "        [0.        , 0.        , 0.4       , 0.4       , 0.2       ],\n",
              "        [0.        , 0.        , 0.4       , 0.13333333, 0.46666667]],\n",
              "\n",
              "       [[0.        , 0.        , 0.        , 0.        , 0.        ],\n",
              "        [0.        , 0.        , 0.        , 0.        , 0.        ],\n",
              "        [0.        , 0.        , 1.        , 0.        , 0.        ],\n",
              "        [0.        , 0.        , 0.5       , 0.5       , 0.        ],\n",
              "        [0.        , 0.        , 0.5       , 0.        , 0.5       ]]])"
            ]
          },
          "metadata": {
            "tags": []
          },
          "execution_count": 44
        }
      ]
    },
    {
      "cell_type": "code",
      "metadata": {
        "id": "DvuvYLMJ28dH",
        "colab_type": "code",
        "colab": {
          "base_uri": "https://localhost:8080/",
          "height": 102
        },
        "outputId": "01d471c6-0cd7-4154-daf2-fdf9d4c09145"
      },
      "source": [
        "print(sm.transitions)# The global transition probability matrix is estimated:\n"
      ],
      "execution_count": null,
      "outputs": [
        {
          "output_type": "stream",
          "text": [
            "[[1.4723e+04 4.0470e+03 3.6000e+01 0.0000e+00 0.0000e+00]\n",
            " [4.0530e+03 1.6369e+04 4.5000e+02 1.0000e+00 0.0000e+00]\n",
            " [1.6000e+01 4.6800e+02 2.9000e+02 1.2000e+01 6.0000e+00]\n",
            " [0.0000e+00 1.0000e+00 1.0000e+01 6.0000e+00 5.0000e+00]\n",
            " [0.0000e+00 0.0000e+00 8.0000e+00 3.0000e+00 1.1000e+01]]\n"
          ],
          "name": "stdout"
        }
      ]
    },
    {
      "cell_type": "code",
      "metadata": {
        "id": "zIqLrJ0-e5C0",
        "colab_type": "code",
        "colab": {
          "base_uri": "https://localhost:8080/",
          "height": 187
        },
        "outputId": "7777bc2b-a2c5-443f-bd73-4ac05a3ed3e3"
      },
      "source": [
        "sm.p # The global transition probability matrix is estimated:\n",
        "print(sm.p)"
      ],
      "execution_count": null,
      "outputs": [
        {
          "output_type": "stream",
          "text": [
            "[[7.82888440e-01 2.15197277e-01 1.91428268e-03 0.00000000e+00\n",
            "  0.00000000e+00]\n",
            " [1.94174292e-01 7.84218847e-01 2.15589518e-02 4.79087817e-05\n",
            "  0.00000000e+00]\n",
            " [2.02020202e-02 5.90909091e-01 3.66161616e-01 1.51515152e-02\n",
            "  7.57575758e-03]\n",
            " [0.00000000e+00 4.54545455e-02 4.54545455e-01 2.72727273e-01\n",
            "  2.27272727e-01]\n",
            " [0.00000000e+00 0.00000000e+00 3.63636364e-01 1.36363636e-01\n",
            "  5.00000000e-01]]\n"
          ],
          "name": "stdout"
        }
      ]
    },
    {
      "cell_type": "code",
      "metadata": {
        "id": "HbtfuDB8CJ7Q",
        "colab_type": "code",
        "colab": {
          "base_uri": "https://localhost:8080/",
          "height": 34
        },
        "outputId": "74edbbd0-2721-4993-b6a2-a77576197817"
      },
      "source": [
        "# The Q and likelihood ratio statistics are both significant indicating\n",
        "# the dynamics are not homogeneous across the lag classes:\n",
        "    \n",
        "\"%.3f\"%sm.LR"
      ],
      "execution_count": null,
      "outputs": [
        {
          "output_type": "execute_result",
          "data": {
            "text/plain": [
              "'969.316'"
            ]
          },
          "metadata": {
            "tags": []
          },
          "execution_count": 52
        }
      ]
    },
    {
      "cell_type": "code",
      "metadata": {
        "id": "uu0StZd1cL1D",
        "colab_type": "code",
        "colab": {
          "base_uri": "https://localhost:8080/",
          "height": 34
        },
        "outputId": "dd754b9e-72c6-485b-c7c8-5da21ab5d797"
      },
      "source": [
        " \"%.3f\"%sm.Q"
      ],
      "execution_count": null,
      "outputs": [
        {
          "output_type": "execute_result",
          "data": {
            "text/plain": [
              "'1355.926'"
            ]
          },
          "metadata": {
            "tags": []
          },
          "execution_count": 54
        }
      ]
    },
    {
      "cell_type": "code",
      "metadata": {
        "id": "grh7tIATcL_G",
        "colab_type": "code",
        "colab": {
          "base_uri": "https://localhost:8080/",
          "height": 34
        },
        "outputId": "f4519f5f-3f48-490f-f397-852208ffb2b1"
      },
      "source": [
        " \"%.3f\"%sm.LR_p_value\n"
      ],
      "execution_count": null,
      "outputs": [
        {
          "output_type": "execute_result",
          "data": {
            "text/plain": [
              "'0.000'"
            ]
          },
          "metadata": {
            "tags": []
          },
          "execution_count": 55
        }
      ]
    },
    {
      "cell_type": "code",
      "metadata": {
        "id": "RILJXWwocMNn",
        "colab_type": "code",
        "colab": {
          "base_uri": "https://localhost:8080/",
          "height": 34
        },
        "outputId": "6b472a3c-2798-428d-a8bb-256a2c57c048"
      },
      "source": [
        "\n",
        "sm.dof_hom\n"
      ],
      "execution_count": null,
      "outputs": [
        {
          "output_type": "execute_result",
          "data": {
            "text/plain": [
              "36"
            ]
          },
          "metadata": {
            "tags": []
          },
          "execution_count": 57
        }
      ]
    },
    {
      "cell_type": "code",
      "metadata": {
        "id": "gbecmMR2Did5",
        "colab_type": "code",
        "colab": {
          "base_uri": "https://localhost:8080/",
          "height": 187
        },
        "outputId": "f081d944-1465-464d-a929-309100cd425f"
      },
      "source": [
        "sm.S   ## long run of SMC"
      ],
      "execution_count": null,
      "outputs": [
        {
          "output_type": "execute_result",
          "data": {
            "text/plain": [
              "array([[5.98635823e-01, 3.96168941e-01, 5.19523593e-03, 0.00000000e+00,\n",
              "        0.00000000e+00],\n",
              "       [3.47200258e-01, 6.30256810e-01, 2.24992423e-02, 4.36897579e-05,\n",
              "        0.00000000e+00],\n",
              "       [4.61603085e-02, 4.90352049e-01, 3.78512259e-01, 3.45123802e-02,\n",
              "        5.04630033e-02],\n",
              "       [0.00000000e+00, 0.00000000e+00, 8.71794872e-01, 9.32400932e-02,\n",
              "        3.49650350e-02],\n",
              "       [0.00000000e+00, 0.00000000e+00, 1.00000000e+00, 0.00000000e+00,\n",
              "        0.00000000e+00]])"
            ]
          },
          "metadata": {
            "tags": []
          },
          "execution_count": 46
        }
      ]
    },
    {
      "cell_type": "code",
      "metadata": {
        "id": "xQ7sCfp3fLa5",
        "colab_type": "code",
        "colab": {
          "base_uri": "https://localhost:8080/",
          "height": 34
        },
        "outputId": "4536ce18-12fd-4750-fc84-dd5b6037bdea"
      },
      "source": [
        "sm.s # steady state of global"
      ],
      "execution_count": null,
      "outputs": [
        {
          "output_type": "execute_result",
          "data": {
            "text/plain": [
              "array([0.46328641, 0.51596837, 0.01965356, 0.00054579, 0.00054587])"
            ]
          },
          "metadata": {
            "tags": []
          },
          "execution_count": 47
        }
      ]
    },
    {
      "cell_type": "code",
      "metadata": {
        "id": "k5qm5l2DjHSa",
        "colab_type": "code",
        "colab": {
          "base_uri": "https://localhost:8080/",
          "height": 51
        },
        "outputId": "b3394b1c-c9f9-4692-8b5f-9bd130c8d89b"
      },
      "source": [
        "1/sm.s   # mean return timr of global"
      ],
      "execution_count": null,
      "outputs": [
        {
          "output_type": "execute_result",
          "data": {
            "text/plain": [
              "array([   2.15849198,    1.93810329,   50.8813654 , 1832.21184974,\n",
              "       1831.94852978])"
            ]
          },
          "metadata": {
            "tags": []
          },
          "execution_count": 48
        }
      ]
    },
    {
      "cell_type": "code",
      "metadata": {
        "id": "Vqe4jwXCi7Lp",
        "colab_type": "code",
        "colab": {
          "base_uri": "https://localhost:8080/",
          "height": 187
        },
        "outputId": "fc97b2d6-7c09-4b23-faca-a6d833d230e9"
      },
      "source": [
        "print(giddy.ergodic.fmpt(sm.p))  ###  mean first passage time of global\n"
      ],
      "execution_count": null,
      "outputs": [
        {
          "output_type": "stream",
          "text": [
            "[[2.15849198e+00 4.62243217e+00 8.51421924e+01 2.82618992e+03\n",
            "  4.08378456e+03]\n",
            " [5.32231739e+00 1.93810329e+00 8.12526739e+01 2.82225051e+03\n",
            "  4.07987236e+03]\n",
            " [6.86615670e+00 1.87195975e+00 5.08813654e+01 2.74665675e+03\n",
            "  4.00119155e+03]\n",
            " [8.94701240e+00 3.93039728e+00 7.73776033e+00 1.83221185e+03\n",
            "  2.75711174e+03]\n",
            " [9.43366280e+00 4.43335180e+00 4.11029827e+00 1.99956854e+03\n",
            "  1.83194853e+03]]\n"
          ],
          "name": "stdout"
        }
      ]
    },
    {
      "cell_type": "code",
      "metadata": {
        "id": "fpHhZnNy1jXS",
        "colab_type": "code",
        "colab": {
          "base_uri": "https://localhost:8080/",
          "height": 187
        },
        "outputId": "b640c3e7-ddaf-43a9-a25c-e2ce4dbe534c"
      },
      "source": [
        "print(sm.S) # steady state of SMC"
      ],
      "execution_count": null,
      "outputs": [
        {
          "output_type": "stream",
          "text": [
            "[[5.98635823e-01 3.96168941e-01 5.19523593e-03 0.00000000e+00\n",
            "  0.00000000e+00]\n",
            " [3.47200258e-01 6.30256810e-01 2.24992423e-02 4.36897579e-05\n",
            "  0.00000000e+00]\n",
            " [4.61603085e-02 4.90352049e-01 3.78512259e-01 3.45123802e-02\n",
            "  5.04630033e-02]\n",
            " [0.00000000e+00 0.00000000e+00 8.71794872e-01 9.32400932e-02\n",
            "  3.49650350e-02]\n",
            " [0.00000000e+00 0.00000000e+00 1.00000000e+00 0.00000000e+00\n",
            "  0.00000000e+00]]\n"
          ],
          "name": "stdout"
        }
      ]
    },
    {
      "cell_type": "code",
      "metadata": {
        "id": "FO1fM3vj7q4v",
        "colab_type": "code",
        "colab": {}
      },
      "source": [
        ""
      ],
      "execution_count": null,
      "outputs": []
    },
    {
      "cell_type": "code",
      "metadata": {
        "id": "GI2ip4UQ7q_E",
        "colab_type": "code",
        "colab": {}
      },
      "source": [
        ""
      ],
      "execution_count": null,
      "outputs": []
    },
    {
      "cell_type": "code",
      "metadata": {
        "id": "oENoyHxjHJDX",
        "colab_type": "code",
        "colab": {
          "base_uri": "https://localhost:8080/",
          "height": 102
        },
        "outputId": "a2bff860-f3c6-441d-c088-a91504419117"
      },
      "source": [
        "np.matrix(sm.chi2)"
      ],
      "execution_count": null,
      "outputs": [
        {
          "output_type": "execute_result",
          "data": {
            "text/plain": [
              "matrix([[4.06850309e+02, 0.00000000e+00, 8.00000000e+00],\n",
              "        [3.36889387e+02, 0.00000000e+00, 8.00000000e+00],\n",
              "        [5.79902403e+02, 0.00000000e+00, 1.60000000e+01],\n",
              "        [2.92440748e+01, 2.87291447e-04, 8.00000000e+00],\n",
              "        [3.03936782e+00, 9.31862743e-01, 8.00000000e+00]])"
            ]
          },
          "metadata": {
            "tags": []
          },
          "execution_count": 58
        }
      ]
    },
    {
      "cell_type": "code",
      "metadata": {
        "id": "eNvH_hUcz9bI",
        "colab_type": "code",
        "colab": {}
      },
      "source": [
        "#pip install -U giddy\n",
        "import giddy\n",
        "import numpy as np\n",
        "cc=np.array([50,100,200,300]) #set the classification cutoffs, we will pass it to Spatial_Markov later\n",
        "sm = giddy.markov.Spatial_Markov(y,w,cutoff=cc,lag_cutoff=cc) #you need to define \"y\" as your air pollution index data and \"w\" as the spatial weight matrix\n",
        "sm.P #this is the 5 spatial Markov transition probability matrices\n",
        "sm.p #this is the classic transition probability matrix"
      ],
      "execution_count": null,
      "outputs": []
    },
    {
      "cell_type": "code",
      "metadata": {
        "id": "7smqWDcLHJBT",
        "colab_type": "code",
        "colab": {
          "base_uri": "https://localhost:8080/",
          "height": 102
        },
        "outputId": "1fc736cd-52f1-45a7-f3e0-320f0e20ed1d"
      },
      "source": [
        "np.matrix(sm.shtest)   #"
      ],
      "execution_count": null,
      "outputs": [
        {
          "output_type": "execute_result",
          "data": {
            "text/plain": [
              "matrix([[1.53292285e+03, 0.00000000e+00, 4.00000000e+00],\n",
              "        [1.15715166e+03, 0.00000000e+00, 4.00000000e+00],\n",
              "        [4.84441143e+03, 0.00000000e+00, 4.00000000e+00],\n",
              "        [2.34526147e+03, 0.00000000e+00, 4.00000000e+00],\n",
              "        [2.49406827e+02, 0.00000000e+00, 4.00000000e+00]])"
            ]
          },
          "metadata": {
            "tags": []
          },
          "execution_count": 60
        }
      ]
    },
    {
      "cell_type": "code",
      "metadata": {
        "id": "qPd6p5rLHUaJ",
        "colab_type": "code",
        "colab": {}
      },
      "source": [
        "from scipy.stats import chi2\n",
        "chi2(T1,T2)"
      ],
      "execution_count": null,
      "outputs": []
    },
    {
      "cell_type": "code",
      "metadata": {
        "id": "weFc6kSlHUhS",
        "colab_type": "code",
        "colab": {}
      },
      "source": [
        "from scipy.stats import chisquare\n",
        "\n",
        "chisquare(T1,T2)"
      ],
      "execution_count": null,
      "outputs": []
    },
    {
      "cell_type": "code",
      "metadata": {
        "id": "yEN7TDq_PfX_",
        "colab_type": "code",
        "colab": {}
      },
      "source": [
        "import csv\n",
        "with open(\"Last37API.csv\", \"rb\") as f:\n",
        "  reader = csv.reader(f)"
      ],
      "execution_count": null,
      "outputs": []
    },
    {
      "cell_type": "code",
      "metadata": {
        "id": "Dc8Vwf07QUui",
        "colab_type": "code",
        "colab": {}
      },
      "source": [
        "import pandas\n",
        "f = pandas.read_csv('Last37API.csv', index_col='Name')\n",
        "#print(f)\n",
        "f.head()"
      ],
      "execution_count": null,
      "outputs": []
    },
    {
      "cell_type": "code",
      "metadata": {
        "id": "hLREoE4zHUlI",
        "colab_type": "code",
        "colab": {}
      },
      "source": [
        "#Classic Markov\n",
        "\n",
        "import pysal\n",
        "import numpy as np\n",
        "#f = pysal.open(\"C:\\\\Users\\\\Yousif\\\\Desktop\\\\Spatial.MC\\\\updated_testdata17.csv\")\n",
        "#df = pd.read_csv(\"Last37API.csv\")\n",
        "pci = np.array([f.by_col[str(y)] for y in range(1,1096)])\n",
        "#pci = df[list(map(str,range(1, 1096)))].as_matrix()\n",
        "\n",
        "#set classes to quintiles for each year\n",
        "\n",
        "q5 = np.array([pysal.Quantiles(y).yb for y in pci]).transpose()\n",
        "m = pysal.Markov(q5)\n",
        "m.transitions\n",
        "\n"
      ],
      "execution_count": null,
      "outputs": []
    },
    {
      "cell_type": "code",
      "metadata": {
        "id": "bgH4A-xjRUDj",
        "colab_type": "code",
        "colab": {}
      },
      "source": [
        ""
      ],
      "execution_count": null,
      "outputs": []
    },
    {
      "cell_type": "code",
      "metadata": {
        "id": "r_U2IZ17wTOq",
        "colab_type": "code",
        "colab": {
          "base_uri": "https://localhost:8080/",
          "height": 136
        },
        "outputId": "b44eb822-290f-47d4-fb0d-1c7c629fd5b8"
      },
      "source": [
        "print(y)   #API data"
      ],
      "execution_count": null,
      "outputs": [
        {
          "output_type": "stream",
          "text": [
            "[[50. 40. 44. ... 30. 32. 41.]\n",
            " [43. 51. 55. ... 53. 51. 51.]\n",
            " [37. 47. 63. ... 27. 52. 57.]\n",
            " ...\n",
            " [47. 66. 37. ... 29. 36. 52.]\n",
            " [36. 50. 54. ... 19. 20. 23.]\n",
            " [44. 55. 52. ... 32. 39. 67.]]\n"
          ],
          "name": "stdout"
        }
      ]
    },
    {
      "cell_type": "code",
      "metadata": {
        "id": "uT_8VN9rwYEx",
        "colab_type": "code",
        "colab": {
          "base_uri": "https://localhost:8080/",
          "height": 34
        },
        "outputId": "23b62132-a359-4a9f-e50b-672179245178"
      },
      "source": [
        "len(y)  # number of rows or number of stations"
      ],
      "execution_count": null,
      "outputs": [
        {
          "output_type": "execute_result",
          "data": {
            "text/plain": [
              "37"
            ]
          },
          "metadata": {
            "tags": []
          },
          "execution_count": 63
        }
      ]
    },
    {
      "cell_type": "code",
      "metadata": {
        "id": "hGpLHdIfbdYe",
        "colab_type": "code",
        "colab": {}
      },
      "source": [
        "#Classic Markov\n",
        "import pysal\n",
        "import pandas as pd\n",
        "f = pysal.open(\"C:\\\\Users\\\\y85al\\\\OneDrive\\\\Desktop\\\\Last37API.csv\")\n",
        "#f = pysal.open(\"C:\\Users\\y85al\\OneDrive\\Desktop\\Last37API.csv\")\n",
        "\n",
        "#df = pd.read_csv(\"Last37API.csv\")\n",
        "#pci = df[list(map(str,range(1, 1097)))].values\n",
        "pci = np.array([df.by_col[str(y)] for y in range(1,1096)])\n",
        "#set classes to quintiles for each year\n",
        "q5 = np.array([pysal.Quantiles(y).yb for y in pci]).transpose()\n",
        "m = pysal.Markov(q5)\n",
        "m.transitions\n",
        "\n"
      ],
      "execution_count": null,
      "outputs": []
    },
    {
      "cell_type": "code",
      "metadata": {
        "id": "n30pN4XQRVSf",
        "colab_type": "code",
        "colab": {}
      },
      "source": [
        "import csv\n",
        " \n",
        "f  = open('Last37API.csv', \"rb\")\n",
        "reader = csv.reader(f)\n",
        "of  = open('Last37API.csv', \"wb\")"
      ],
      "execution_count": null,
      "outputs": []
    },
    {
      "cell_type": "code",
      "metadata": {
        "id": "FNm8XYbVZ3tq",
        "colab_type": "code",
        "colab": {}
      },
      "source": [
        "w = ps.io.open(\"37_weight.gal\").read()\n",
        "w.transform = 'r'\n",
        "w.neighbors"
      ],
      "execution_count": null,
      "outputs": []
    },
    {
      "cell_type": "code",
      "metadata": {
        "id": "389uR48-HUsV",
        "colab_type": "code",
        "colab": {}
      },
      "source": [
        "m.p"
      ],
      "execution_count": null,
      "outputs": []
    },
    {
      "cell_type": "code",
      "metadata": {
        "id": "PC2GmFgVHUwk",
        "colab_type": "code",
        "colab": {}
      },
      "source": [
        "m.steady_state"
      ],
      "execution_count": null,
      "outputs": []
    },
    {
      "cell_type": "code",
      "metadata": {
        "id": "CXX4gFeUHU1B",
        "colab_type": "code",
        "colab": {}
      },
      "source": [
        " pysal.ergodic.fmpt(m.p)"
      ],
      "execution_count": null,
      "outputs": []
    },
    {
      "cell_type": "code",
      "metadata": {
        "id": "qV4R44EZHU8P",
        "colab_type": "code",
        "colab": {
          "base_uri": "https://localhost:8080/",
          "height": 221
        },
        "outputId": "7c82ef6d-1995-44a2-c54e-52c701ec95b3"
      },
      "source": [
        "import pysal as ps\n",
        "import pandas as pd\n",
        "import numpy as np\n",
        "f = ps.open(\"D:\\\\Last37API.csv\")\n",
        "print(f)"
      ],
      "execution_count": null,
      "outputs": [
        {
          "output_type": "error",
          "ename": "AttributeError",
          "evalue": "ignored",
          "traceback": [
            "\u001b[0;31m---------------------------------------------------------------------------\u001b[0m",
            "\u001b[0;31mAttributeError\u001b[0m                            Traceback (most recent call last)",
            "\u001b[0;32m<ipython-input-38-7bb38707750a>\u001b[0m in \u001b[0;36m<module>\u001b[0;34m()\u001b[0m\n\u001b[1;32m      4\u001b[0m \u001b[0;32mimport\u001b[0m \u001b[0mnumpy\u001b[0m \u001b[0;32mas\u001b[0m \u001b[0mnp\u001b[0m\u001b[0;34m\u001b[0m\u001b[0;34m\u001b[0m\u001b[0m\n\u001b[1;32m      5\u001b[0m \u001b[0;31m#f = pysal.open(pysal.examples.get_path(\"DataMAX2.csv\"))\u001b[0m\u001b[0;34m\u001b[0m\u001b[0;34m\u001b[0m\u001b[0;34m\u001b[0m\u001b[0m\n\u001b[0;32m----> 6\u001b[0;31m \u001b[0mf\u001b[0m \u001b[0;34m=\u001b[0m \u001b[0mps\u001b[0m\u001b[0;34m.\u001b[0m\u001b[0mopen\u001b[0m\u001b[0;34m(\u001b[0m\u001b[0;34m\"D:\\\\Last37API.csv\"\u001b[0m\u001b[0;34m)\u001b[0m\u001b[0;34m\u001b[0m\u001b[0;34m\u001b[0m\u001b[0m\n\u001b[0m\u001b[1;32m      7\u001b[0m \u001b[0mprint\u001b[0m\u001b[0;34m(\u001b[0m\u001b[0mf\u001b[0m\u001b[0;34m)\u001b[0m\u001b[0;34m\u001b[0m\u001b[0;34m\u001b[0m\u001b[0m\n",
            "\u001b[0;31mAttributeError\u001b[0m: module 'pysal' has no attribute 'open'"
          ]
        }
      ]
    },
    {
      "cell_type": "code",
      "metadata": {
        "id": "RPHVt3BPPJN9",
        "colab_type": "code",
        "colab": {}
      },
      "source": [
        "import pysal\n",
        "import pandas as pd\n",
        "import numpy as np\n",
        "\n",
        "f = pd.read_csv(\"C:\\\\Users\\\\y85al\\\\Downloads\\\\Last37API.csv\")\n",
        "pci = np.array([f.by_col[str(y)] for y in range(1,1096)])\n",
        "#set classes to quintiles for each year\n",
        "q5 = np.array([pysal.Quantiles(y).yb for y in pci]).transpose()\n",
        "m = pysal.Markov(q5)\n",
        "m.transitions"
      ],
      "execution_count": null,
      "outputs": []
    },
    {
      "cell_type": "code",
      "metadata": {
        "id": "1-gfOeoY0khw",
        "colab_type": "code",
        "colab": {}
      },
      "source": [
        ""
      ],
      "execution_count": null,
      "outputs": []
    },
    {
      "cell_type": "code",
      "metadata": {
        "id": "tghjt5F50keV",
        "colab_type": "code",
        "colab": {}
      },
      "source": [
        "Directional Analysis of Dynamic LISAs¶\n",
        "This notebook demonstrates how to use Rose diagram based inference for directional LISAs."
      ],
      "execution_count": null,
      "outputs": []
    },
    {
      "cell_type": "code",
      "metadata": {
        "id": "6NqTYLJZB5l_",
        "colab_type": "code",
        "colab": {}
      },
      "source": [
        "import libpysal \n",
        "import numpy as np\n",
        "from giddy.directional import Rose\n",
        "%matplotlib inline"
      ],
      "execution_count": null,
      "outputs": []
    },
    {
      "cell_type": "code",
      "metadata": {
        "id": "TvqrHgU00huC",
        "colab_type": "code",
        "colab": {}
      },
      "source": [
        "f = open(libpysal.examples.get_path('spi_download.csv'), 'r')\n",
        "lines = f.readlines()\n",
        "f.close()"
      ],
      "execution_count": null,
      "outputs": []
    },
    {
      "cell_type": "code",
      "metadata": {
        "id": "O8Rtw11t0iHI",
        "colab_type": "code",
        "colab": {
          "base_uri": "https://localhost:8080/",
          "height": 35
        },
        "outputId": "6768d472-0378-47b9-bb4c-5534c127da99"
      },
      "source": [
        "f"
      ],
      "execution_count": null,
      "outputs": [
        {
          "output_type": "execute_result",
          "data": {
            "text/plain": [
              "<_io.TextIOWrapper name='/usr/local/lib/python3.6/dist-packages/libpysal/examples/us_income/spi_download.csv' mode='r' encoding='UTF-8'>"
            ]
          },
          "metadata": {
            "tags": []
          },
          "execution_count": 83
        }
      ]
    }
  ]
}